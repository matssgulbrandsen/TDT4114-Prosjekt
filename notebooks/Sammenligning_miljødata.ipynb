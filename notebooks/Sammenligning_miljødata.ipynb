{
 "cells": [
  {
   "cell_type": "markdown",
   "id": "d9aeb683",
   "metadata": {},
   "source": [
    "### Sammenligning \n",
    "Nedenfor vises de tre miljøanalysene opp mot hverandre. Ser en klar korrelasjon mellom havnivåstigning og temperaturøkning. Itilegg ser det ut som at albedoeffekten synker med årene. Dette gir mening med tanke på at refleksjonsevnen synker når snø og is smelter. Setter man de tre grafene opp mot hverandre kommer det klart fram. Brukeren er velkommen til å trekke egene konklusjoner.\n"
   ]
  },
  {
   "cell_type": "code",
   "execution_count": 1,
   "id": "c3061a97",
   "metadata": {},
   "outputs": [
    {
     "name": "stdout",
     "output_type": "stream",
     "text": [
      "🔍 Antall referansepunkter: 16\n"
     ]
    },
    {
     "data": {
      "application/vnd.jupyter.widget-view+json": {
       "model_id": "15d065671f2a48afab51a8d3e794863f",
       "version_major": 2,
       "version_minor": 0
      },
      "text/plain": [
       "HBox(children=(Checkbox(value=True, description='Temperatur'), Checkbox(value=True, description='Havnivå'), Ch…"
      ]
     },
     "metadata": {},
     "output_type": "display_data"
    },
    {
     "data": {
      "application/vnd.jupyter.widget-view+json": {
       "model_id": "fe51a2b026974204955783cbf4042477",
       "version_major": 2,
       "version_minor": 0
      },
      "text/plain": [
       "Output()"
      ]
     },
     "metadata": {},
     "output_type": "display_data"
    }
   ],
   "source": [
    "import sys\n",
    "from pathlib import Path\n",
    "\n",
    "# src-mappen i sys.path for å kunne importere funksjonen\n",
    "sys.path.append(\"../src\")\n",
    "\n",
    "# Importere funksjonen\n",
    "from sammenligning_av_miljodata.sammenligning_miljodata import plot_sammenligning_miljodata\n",
    "\n",
    "# Viser interaktivsammenligningsplot\n",
    "plot_sammenligning_miljodata()\n"
   ]
  }
 ],
 "metadata": {
  "kernelspec": {
   "display_name": "venv",
   "language": "python",
   "name": "python3"
  },
  "language_info": {
   "codemirror_mode": {
    "name": "ipython",
    "version": 3
   },
   "file_extension": ".py",
   "mimetype": "text/x-python",
   "name": "python",
   "nbconvert_exporter": "python",
   "pygments_lexer": "ipython3",
   "version": "3.11.9"
  }
 },
 "nbformat": 4,
 "nbformat_minor": 5
}
