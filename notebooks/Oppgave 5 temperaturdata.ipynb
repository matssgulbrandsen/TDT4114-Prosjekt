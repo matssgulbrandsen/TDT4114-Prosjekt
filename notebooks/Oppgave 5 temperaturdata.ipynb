{
 "cells": [
  {
   "cell_type": "markdown",
   "id": "63a1c91f",
   "metadata": {},
   "source": [
    "### Interaktivt linjeplot for årlig temperaturstatistikk\n",
    "\n",
    "Plottet under gir deg mulighet til å undersøke temperaturtrender over tid på flere måter. Ved hjelp av avkrysningsbokser kan du velge hvilke statistiske mål som skal vises i grafen. Dette gir deg fleksibilitet til å fokusere på akkurat de aspektene av dataene du ønsker å utforske.\n",
    "\n",
    "**Du kan vise/skjule følgende:**\n",
    "\n",
    "- **Årlig gjennomsnitt:**  \n",
    "  Viser gjennomsnittstemperaturen for hvert år. Dette gir et generelt bilde av utviklingen i temperaturen over tid, og er nyttig for å oppdage overordnede trender.\n",
    "\n",
    "- **Årlig median:**  \n",
    "  Viser medianen for temperaturmålingene hvert år. Medianen er mindre påvirket av ekstremverdier og gir et robust mål for den \"typiske\" temperaturen.\n",
    "\n",
    "- **Årlig standardavvik:**  \n",
    "  Viser hvor mye temperaturene har variert i løpet av hvert år. Høyt standardavvik betyr at temperaturen har svingt mye i løpet av året, mens lavt standardavvik betyr at temperaturen har vært jevn.\n",
    "\n",
    "- **Glidende gjennomsnitt (5 år):**  \n",
    "  Viser gjennomsnittet over de siste fem årene for hvert punkt i tidsserien. Denne linjen \"glatter ut\" tilfeldige variasjoner og hjelper deg å se langsiktige trender tydeligere.\n",
    "\n",
    "- **Lineær trend (OLS):**  \n",
    "  Viser en rett linje (regresjonslinje) som er tilpasset de årlige gjennomsnittene. Denne gir et matematisk mål på om temperaturen totalt sett stiger eller synker over hele perioden, og hvor sterk trenden er.\n",
    "\n",
    " \n",
    " De interaktive grafene gir muligheten til å sammenligne ulike statistiske mål, som for eksempel gjennomsnittet og standardavvik. Det kan være interessant å se klima over lengre tid, i forhold til svingningene i temperaturen. Dersom gjennomsnittstemperaturen øker, sammen med standardavvik kan det gi klare tegn på klimaendringer. De interaktive grafene gjør det også lettere for et bredere publikum, og teste litt forskjellige grafer, og gi en bedre forståelse av sammenhenger, enn det en normal statisk graf vil gjøre.\n",
    "\n",
    " I denne visualiseringen ble det sett bort ifra matplotlib og seaborn, da de allerede var brukt i analysen av albedo og havtemperatur, ønsket en mer avansert visualisering i denne deloppgaven, og ønsket å kunne skru av og på de ulike statistiske målene med knapper/buttons\n"
   ]
  },
  {
   "cell_type": "code",
   "execution_count": 2,
   "id": "28f8e5dd",
   "metadata": {},
   "outputs": [
    {
     "data": {
      "application/vnd.jupyter.widget-view+json": {
       "model_id": "25cbeff5d04448599159222a07510470",
       "version_major": 2,
       "version_minor": 0
      },
      "text/plain": [
       "HBox(children=(Checkbox(value=True, description='Årlig gjennomsnitt'), Checkbox(value=True, description='Årlig…"
      ]
     },
     "metadata": {},
     "output_type": "display_data"
    },
    {
     "data": {
      "application/vnd.jupyter.widget-view+json": {
       "model_id": "25fd739f6e2f456ebce98127edc53e05",
       "version_major": 2,
       "version_minor": 0
      },
      "text/plain": [
       "Output()"
      ]
     },
     "metadata": {},
     "output_type": "display_data"
    }
   ],
   "source": [
    "import sys\n",
    "sys.path.append('../src')\n",
    "\n",
    "from temperaturdata.datavisualisering import Temperaturmeny\n",
    "\n",
    "analyse = Temperaturmeny()\n",
    "analyse.plot_interaktiv()"
   ]
  }
 ],
 "metadata": {
  "kernelspec": {
   "display_name": "venv",
   "language": "python",
   "name": "python3"
  },
  "language_info": {
   "codemirror_mode": {
    "name": "ipython",
    "version": 3
   },
   "file_extension": ".py",
   "mimetype": "text/x-python",
   "name": "python",
   "nbconvert_exporter": "python",
   "pygments_lexer": "ipython3",
   "version": "3.11.9"
  }
 },
 "nbformat": 4,
 "nbformat_minor": 5
}
