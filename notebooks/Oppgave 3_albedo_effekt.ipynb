{
 "cells": [
  {
   "cell_type": "markdown",
   "metadata": {},
   "source": [
    "# Oppgave 3: Databehandling\n",
    "\n",
    "I denne oppgaven har jeg utviklet funksjoner som renser og formaterer de innsamlede albedo-dataene, med særlig fokus på håndtering av manglende verdier og uregelmessigheter ved hjelp av Pandas. Koden bruker list comprehensions, iteratorer og pandas SQL (sqldf).\n",
    "\n",
    "---\n",
    "- Gjorde om NetCDF4 til csv\n",
    "\n",
    "For å redusere fil størrelsene og enklere bruk\n",
    "400MB til 17MB\n",
    "\n",
    "- Håndtering av manglede verdier og uregelmessigheter\n",
    "Først identifiseres manglende eller ugyldige verdier i datasettet. For variabelen \"AL-BB-DH\" regnes både \"NaN\" og verdien \"-1\" som \"missing value\" (Kilde. produktmanualen). Rensefunksjonen bytter først ut alle \"-1\" med \"NaN\" og bruker deretter lineær interpolasjon (\"interpolate()\") for å fylle ut hull i dataserien.  \n",
    "Dette gir **2 datasett** som kan potensiellt sammenlignes i videre analyse (dette gjøres ikke fordi lav feilmargin har null feil). \n",
    "\n",
    "---\n",
    "På bakgrunn av hva vi lærte i oppgave 2 rundt datasettet har vi funnet ut:      \n",
    "- Alpene er bra for å se på snøsmelting.\n",
    "- At 21 juni er bra for å se på snøsmelting fra år til år, siden solen er på sitt sterkeste da.\n",
    "- At AL-BB-DH passer vår oppgave best ved at vi ser på et tidspunkt med lite skydekke. \n",
    "- At AL-BB-DH-ERR gir også best data over de 21 årene, ved å sammenligne år til år. \n",
    "--- \n",
    "\n",
    "## Output fra kode \n",
    " - Koden gir:\n",
    "1. Sjekker at csv filene finnes(evt laster ned)\n",
    "2. Sjekker om lavfeilmargin-fil finnes(evt laster ned)\n",
    "3. Sjekker og renser datasettene med feil i seg\n",
    "\n",
    "#Lavfeilmargin har 0 hull i seg i området vi utforsker. \n",
    "\n",
    "---"
   ]
  },
  {
   "cell_type": "code",
   "execution_count": null,
   "metadata": {},
   "outputs": [
    {
     "name": "stdout",
     "output_type": "stream",
     "text": [
      "✅ CSV-filer finnes fra før – hopper over ekstraksjon.\n",
      "✅ Lavfeilmargin-fil finnes – sjekker kvalitet/interpolasjon.\n",
      "🔍 Sjekker/utfører interpolasjon på lavfeilmargin-fil om nødvendig...\n",
      "Albedo effekt 2004.csv: 0 ugyldige (<0/>1) ble satt til NaN. 5 manglende (-1/NaN) før, 0 etter interpolasjon. Rader: 5000 → 5000. Ny fil: Albedo effekt 2004_komplett.csv\n",
      "Albedo effekt 2005.csv: 0 ugyldige (<0/>1) ble satt til NaN. 3 manglende (-1/NaN) før, 0 etter interpolasjon. Rader: 5000 → 5000. Ny fil: Albedo effekt 2005_komplett.csv\n",
      "Albedo effekt 2006.csv: 0 ugyldige (<0/>1) ble satt til NaN. 1 manglende (-1/NaN) før, 0 etter interpolasjon. Rader: 5000 → 5000. Ny fil: Albedo effekt 2006_komplett.csv\n",
      "Albedo effekt 2007.csv: 0 ugyldige (<0/>1) ble satt til NaN. 15 manglende (-1/NaN) før, 0 etter interpolasjon. Rader: 5000 → 5000. Ny fil: Albedo effekt 2007_komplett.csv\n",
      "Albedo effekt 2008.csv: 0 ugyldige (<0/>1) ble satt til NaN. 2 manglende (-1/NaN) før, 0 etter interpolasjon. Rader: 5000 → 5000. Ny fil: Albedo effekt 2008_komplett.csv\n",
      "Albedo effekt 2009.csv: 0 ugyldige (<0/>1) ble satt til NaN. 1 manglende (-1/NaN) før, 0 etter interpolasjon. Rader: 5000 → 5000. Ny fil: Albedo effekt 2009_komplett.csv\n",
      "Albedo effekt 2010.csv: 0 ugyldige (<0/>1) ble satt til NaN. 3 manglende (-1/NaN) før, 0 etter interpolasjon. Rader: 5000 → 5000. Ny fil: Albedo effekt 2010_komplett.csv\n",
      "Albedo effekt 2011.csv: 0 ugyldige (<0/>1) ble satt til NaN. 1 manglende (-1/NaN) før, 0 etter interpolasjon. Rader: 5000 → 5000. Ny fil: Albedo effekt 2011_komplett.csv\n",
      "Albedo effekt 2012.csv: 0 ugyldige (<0/>1) ble satt til NaN. 2 manglende (-1/NaN) før, 0 etter interpolasjon. Rader: 5000 → 5000. Ny fil: Albedo effekt 2012_komplett.csv\n",
      "Albedo effekt 2013.csv: 0 ugyldige (<0/>1) ble satt til NaN. 13 manglende (-1/NaN) før, 0 etter interpolasjon. Rader: 5000 → 5000. Ny fil: Albedo effekt 2013_komplett.csv\n",
      "Albedo effekt 2014.csv: 0 ugyldige (<0/>1) ble satt til NaN. 18 manglende (-1/NaN) før, 0 etter interpolasjon. Rader: 5000 → 5000. Ny fil: Albedo effekt 2014_komplett.csv\n",
      "Albedo effekt 2015.csv: 0 ugyldige (<0/>1) ble satt til NaN. 5 manglende (-1/NaN) før, 0 etter interpolasjon. Rader: 5000 → 5000. Ny fil: Albedo effekt 2015_komplett.csv\n",
      "Albedo effekt 2016.csv: 0 ugyldige (<0/>1) ble satt til NaN. 14 manglende (-1/NaN) før, 0 etter interpolasjon. Rader: 5000 → 5000. Ny fil: Albedo effekt 2016_komplett.csv\n",
      "Albedo effekt 2017.csv: 0 ugyldige (<0/>1) ble satt til NaN. 7 manglende (-1/NaN) før, 0 etter interpolasjon. Rader: 5000 → 5000. Ny fil: Albedo effekt 2017_komplett.csv\n",
      "Albedo effekt 2018.csv: 0 ugyldige (<0/>1) ble satt til NaN. 2 manglende (-1/NaN) før, 0 etter interpolasjon. Rader: 5000 → 5000. Ny fil: Albedo effekt 2018_komplett.csv\n",
      "Albedo effekt 2019.csv: 0 ugyldige (<0/>1) ble satt til NaN. 1 manglende (-1/NaN) før, 0 etter interpolasjon. Rader: 5000 → 5000. Ny fil: Albedo effekt 2019_komplett.csv\n",
      "Albedo effekt 2020.csv: 0 ugyldige (<0/>1) ble satt til NaN. 2 manglende (-1/NaN) før, 0 etter interpolasjon. Rader: 5000 → 5000. Ny fil: Albedo effekt 2020_komplett.csv\n",
      "Albedo effekt 2021.csv: 0 ugyldige (<0/>1) ble satt til NaN. 4 manglende (-1/NaN) før, 0 etter interpolasjon. Rader: 5000 → 5000. Ny fil: Albedo effekt 2021_komplett.csv\n",
      "Albedo effekt 2022.csv: 0 ugyldige (<0/>1) ble satt til NaN. 3 manglende (-1/NaN) før, 0 etter interpolasjon. Rader: 5000 → 5000. Ny fil: Albedo effekt 2022_komplett.csv\n",
      "Albedo effekt 2023.csv: 0 ugyldige (<0/>1) ble satt til NaN. 1 manglende (-1/NaN) før, 0 etter interpolasjon. Rader: 5000 → 5000. Ny fil: Albedo effekt 2023_komplett.csv\n",
      "Albedo effekt 2024.csv: 0 ugyldige (<0/>1) ble satt til NaN. 9 manglende (-1/NaN) før, 0 etter interpolasjon. Rader: 5000 → 5000. Ny fil: Albedo effekt 2024_komplett.csv\n"
     ]
    }
   ],
   "source": [
    "import sys\n",
    "sys.path.append(\"../src\")\n",
    "\n",
    "from albedo_effekt.databehandling import albedo_behandling\n",
    "albedo_behandling()"
   ]
  }
 ],
 "metadata": {
  "kernelspec": {
   "display_name": "venv",
   "language": "python",
   "name": "python3"
  },
  "language_info": {
   "codemirror_mode": {
    "name": "ipython",
    "version": 3
   },
   "file_extension": ".py",
   "mimetype": "text/x-python",
   "name": "python",
   "nbconvert_exporter": "python",
   "pygments_lexer": "ipython3",
   "version": "3.13.1"
  }
 },
 "nbformat": 4,
 "nbformat_minor": 2
}
