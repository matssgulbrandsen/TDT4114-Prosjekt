{
 "cells": [
  {
   "cell_type": "markdown",
   "metadata": {},
   "source": [
    "# Albeno effekt\n",
    "---\n"
   ]
  },
  {
   "cell_type": "markdown",
   "metadata": {},
   "source": [
    "#### Kode 1\n"
   ]
  },
  {
   "cell_type": "markdown",
   "metadata": {},
   "source": [
    "Denne koden henter ut albedo effekten i alpene fra 2004 til 2024 hvor feil marginen er lav fra data_m-lavfeilmargin. Deretter tar den gjennomsnitt og er fremvist med en linje graf med slider for å se ulike positive og negative økninger mellom år. Trendlinjen gir brukeren en lett oversiktielig måte å forstå dataen\n"
   ]
  },
  {
   "cell_type": "code",
   "execution_count": null,
   "metadata": {},
   "outputs": [
    {
     "data": {
      "application/vnd.jupyter.widget-view+json": {
       "model_id": "be4c59abc7d041e9a14cacd365d1d53a",
       "version_major": 2,
       "version_minor": 0
      },
      "text/plain": [
       "interactive(children=(IntRangeSlider(value=(2004, 2024), description='År-range:', max=2024, min=2004), Checkbo…"
      ]
     },
     "metadata": {},
     "output_type": "display_data"
    }
   ],
   "source": [
    "import pandas as pd\n",
    "import glob\n",
    "import os\n",
    "import numpy as np\n",
    "import matplotlib.pyplot as plt\n",
    "import seaborn as sns\n",
    "import ipywidgets as widgets\n",
    "from IPython.display import display\n",
    "\n",
    "# Henter inn referanseår og definer faste snøpunkter\n",
    "referanse_2004 = pd.read_csv(\"../data/csv_albedo_effekt/Albedo effekt 2004.csv\")\n",
    "feilmargin    = pd.read_csv(\"../data/csv_albedo_effekt/data_m-lavfeilmargin.csv\")\n",
    "\n",
    "felles_2004 = pd.merge(referanse_2004, feilmargin, on=[\"lat\",\"lon\"], how=\"inner\")\n",
    "ref_punkter = felles_2004[felles_2004[\"AL-BB-DH\"] > 0.3][[\"lat\",\"lon\"]]\n",
    "\n",
    "# Regner ut Årlig gjennomsnittlig albedo\n",
    "årstall, gjennomsnitt = [], []\n",
    "for fil in sorted(glob.glob(\"../data/csv_albedo_effekt/Albedo*.csv\")):\n",
    "    df = pd.read_csv(fil)\n",
    "    df[\"lat\"] = df[\"lat\"].round(6); df[\"lon\"] = df[\"lon\"].round(6)\n",
    "    felles = pd.merge(ref_punkter, df, on=[\"lat\",\"lon\"], how=\"inner\")\n",
    "    årstall.append(int(''.join(filter(str.isdigit, os.path.basename(fil)))))\n",
    "    gjennomsnitt.append(felles[\"AL-BB-DH\"].mean() if \"AL-BB-DH\" in felles else np.nan)\n",
    "\n",
    "stats = pd.DataFrame({\"År\": årstall, \"Gjennomsnittlig albedo\": gjennomsnitt})\n",
    "\n",
    "\n",
    "# Interaktiv funksjon for plotting\n",
    "def plot_interactive(year_range, show_trend):\n",
    "    min_year, max_year = year_range\n",
    "    df = stats[(stats[\"År\"] >= min_year) & (stats[\"År\"] <= max_year)]\n",
    "    plt.figure(figsize=(10, 5))\n",
    "    sns.lineplot(data=df, x=\"År\", y=\"Gjennomsnittlig albedo\", marker=\"o\", label=\"Årlig gj.snitt\")\n",
    "    if show_trend and len(df) > 1:\n",
    "        sns.regplot(data=df, x=\"År\", y=\"Gjennomsnittlig albedo\", scatter=False,\n",
    "                    label=\"Trendlinje\", ci=None, line_kws={\"linestyle\":\"--\"})\n",
    "            # Prosentvis endring per år\n",
    "        koeff = np.polyfit(df[\"År\"], df[\"Gjennomsnittlig albedo\"], 1)\n",
    "        stigning = koeff[0]\n",
    "        snitt_albedo = df[\"Gjennomsnittlig albedo\"].mean()\n",
    "        prosent_endring = (stigning / snitt_albedo) * 100\n",
    "\n",
    "        retning = \"økning\" if prosent_endring > 0 else \"nedgang\"\n",
    "        print(f\"📉 Trend: {prosent_endring:.2f}% {retning} i albedo per år ({stigning:.5f} absolutt endring)\")\n",
    "\n",
    "    plt.title(f\"Albedo-utvikling {min_year}–{max_year}\")\n",
    "    plt.xlabel(\"År\"); plt.ylabel(\"Albedo\")\n",
    "    plt.grid(True, linestyle=\"--\", alpha=0.5)\n",
    "    plt.legend()\n",
    "    plt.show()\n",
    "\n",
    "# Lager interaktive widgeter\n",
    "year_slider = widgets.IntRangeSlider(\n",
    "    value=[stats[\"År\"].min(), stats[\"År\"].max()],\n",
    "    min=stats[\"År\"].min(), max=stats[\"År\"].max(),\n",
    "    step=1, description=\"År-range:\"\n",
    ")\n",
    "trend_toggle = widgets.Checkbox(value=True, description=\"Vis trendlinje\")\n",
    "\n",
    "interactive_plot = widgets.interactive(plot_interactive,\n",
    "                                       year_range=year_slider,\n",
    "                                       show_trend=trend_toggle)\n",
    "\n",
    "display(interactive_plot)\n"
   ]
  }
 ],
 "metadata": {
  "kernelspec": {
   "display_name": "venv",
   "language": "python",
   "name": "python3"
  },
  "language_info": {
   "codemirror_mode": {
    "name": "ipython",
    "version": 3
   },
   "file_extension": ".py",
   "mimetype": "text/x-python",
   "name": "python",
   "nbconvert_exporter": "python",
   "pygments_lexer": "ipython3",
   "version": "3.13.1"
  }
 },
 "nbformat": 4,
 "nbformat_minor": 2
}
