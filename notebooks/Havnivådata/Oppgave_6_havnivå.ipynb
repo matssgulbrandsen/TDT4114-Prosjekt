{
 "cells": [
  {
   "cell_type": "markdown",
   "id": "204207a8",
   "metadata": {},
   "source": [
    "### Prediktiv analyse ved bruk av scikit-learn"
   ]
  },
  {
   "cell_type": "markdown",
   "id": "97468fd9",
   "metadata": {},
   "source": [
    "I denne analysen har vi benyttet lineær regresjon for å forutsi fremtidig havnivåstigning basert på historiske målinger. Datasettet ble først forberedt ved å konvertere tidsstempler til desimalår, og gjennomsnittlig havnivå ble definert som målvariabel. Modellen er trent ved hjelp av scikit-learn, og modellens nøyaktighet ble evaluert ved bruk av Mean Squared Error (MSE) og R²-score. Her fungerer tid (desimalår) som uavhengig variabel, mens gjennomsnittlig havnivå fungerte som avhengig variabel (målvariabel). For å sikre at modellen ikke bare tilpasser seg treningsdataene, ble datasettet delt opp i to deler: ett for trening (80 %) og ett for testing (20 %). Dette blir gjort for å sjekke om modellen fungerer godt på nye data den ikke har sett før. På denne måten slik vi en mer pålitelig vurdering av hvor god modellen faktisk er.\n",
    "\n",
    "Brukeren kan angi ønsket fremtidig prediksjonshorisont ved å justere variabelen slutt_år. Resultatene visualiseres i en interaktiv graf ved hjelp av Plotly, som gir et intuitivt bilde av både historiske observasjoner og predikert utvikling. Det understrekes at usikkerheten i prediksjonene øker jo lenger frem i tid man forsøker å forutsi, ettersom lineære modeller ikke tar høyde for strukturelle endringer eller ikke-lineære trender i dataene."
   ]
  },
  {
   "cell_type": "code",
   "execution_count": null,
   "id": "eddf9657",
   "metadata": {},
   "outputs": [
    {
     "name": "stderr",
     "output_type": "stream",
     "text": [
      "c:\\Users\\madsj\\OneDrive\\Dokumenter\\tdt4114\\TDT4114-Prosjekt\\src\\Havnivådata\\Dataprediksjon.py:43: UserWarning:\n",
      "\n",
      "Converting to PeriodArray/Index representation will drop timezone information.\n",
      "\n"
     ]
    },
    {
     "data": {
      "application/vnd.plotly.v1+json": {
       "config": {
        "plotlyServerURL": "https://plot.ly"
       },
       "data": [
        {
         "hovertemplate": "År=%{x}<br>Havnivå (mm)=%{y}<extra></extra>",
         "legendgroup": "",
         "line": {
          "color": "#636efa",
          "dash": "solid",
          "shape": "linear"
         },
         "marker": {
          "symbol": "circle"
         },
         "mode": "lines",
         "name": "",
         "orientation": "v",
         "showlegend": false,
         "type": "scatter",
         "x": {
          "bdata": "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",
          "dtype": "f8"
         },
         "xaxis": "x",
         "y": {
          "bdata": "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",
          "dtype": "f8"
         },
         "yaxis": "y"
        },
        {
         "line": {
          "color": "red"
         },
         "mode": "lines",
         "name": "Predikert til 2030",
         "type": "scatter",
         "x": {
          "bdata": "AAAAAACkn0BVVVVVVaSfQKqqqqqqpJ9A//////+kn0BUVVVVVaWfQKmqqqqqpZ9A/v////+ln0BTVVVVVaafQKiqqqqqpp9A/f////+mn0BSVVVVVaefQKeqqqqqp59A/P////+nn0BRVVVVVaifQKaqqqqqqJ9A+/////+on0BQVVVVVamfQKWqqqqqqZ9A+v////+pn0BPVVVVVaqfQKSqqqqqqp9A+f////+qn0BOVVVVVaufQKOqqqqqq59A+P////+rn0BNVVVVVayfQKKqqqqqrJ9A9/////+sn0BMVVVVVa2fQKGqqqqqrZ9A9v////+tn0BLVVVVVa6fQKCqqqqqrp9A9f////+un0BKVVVVVa+fQJ+qqqqqr59A9P////+vn0BJVVVVVbCfQJ6qqqqqsJ9A8/////+wn0BIVVVVVbGfQJ2qqqqqsZ9A8v////+xn0BHVVVVVbKfQJyqqqqqsp9A8f////+yn0BGVVVVVbOfQJuqqqqqs59A8P////+zn0BFVVVVVbSfQJqqqqqqtJ9A7/////+0n0BEVVVVVbWfQJmqqqqqtZ9A7v////+1n0BDVVVVVbafQJiqqqqqtp9A7f////+2n0BCVVVVVbefQJeqqqqqt59A7P////+3n0BBVVVVVbifQJaqqqqquJ9A6/////+4n0BAVVVVVbmfQJWqqqqquZ9A6v////+5n0A/VVVVVbqfQJSqqqqqup9A6f////+6n0A+VVVVVbufQJOqqqqqu59A",
          "dtype": "f8"
         },
         "y": {
          "bdata": "AKegF7WSU0BAdOhG1qJTQMBBMHb3slNAAA94pRjDU0BA3L/UOdNTQICpBwRb41NAwHZPM3zzU0AARJdinQNUQEAR35G+E1RAgN4mwd8jVEDAq27wADRUQEB5th8iRFRAgEb+TkNUVEDAE0Z+ZGRUQADhja2FdFRAQK7V3KaEVECAex0MyJRUQMBIZTvppFRAABatagq1VECA4/SZK8VUQMCwPMlM1VRAAH6E+G3lVEBAS8wnj/VUQIAYFFewBVVAwOVbhtEVVUAAs6O18iVVQECA6+QTNlVAgE0zFDVGVUAAG3tDVlZVQEDownJ3ZlVAgLUKoph2VUDAglLRuYZVQABQmgDbllVAQB3iL/ymVUCA6ilfHbdVQMC3cY4+x1VAQIW5vV/XVUCAUgHtgOdVQMAfSRyi91VAAO2QS8MHVkBAuth65BdWQICHIKoFKFZAwFRo2SY4VkAAIrAISEhWQEDv9zdpWFZAwLw/Z4poVkAAioeWq3hWQEBXz8XMiFZAgCQX9e2YVkDA8V4kD6lWQAC/plMwuVZAQIzuglHJVkCAWTayctlWQMAmfuGT6VZAQPTFELX5VkCAwQ1A1glXQMCOVW/3GVdAAFydnhgqV0BAKeXNOTpXQID2LP1aSldAwMN0LHxaV0AAkbxbnWpXQIBeBIu+eldAwCtMut+KV0AA+ZPpAJtXQEDG2xgiq1dAgJMjSEO7V0DAYGt3ZMtXQAAus6aF21dAQPv61abrV0CAyEIFyPtXQACWijTpC1hA",
          "dtype": "f8"
         }
        }
       ],
       "layout": {
        "legend": {
         "tracegroupgap": 0
        },
        "showlegend": true,
        "template": {
         "data": {
          "bar": [
           {
            "error_x": {
             "color": "#2a3f5f"
            },
            "error_y": {
             "color": "#2a3f5f"
            },
            "marker": {
             "line": {
              "color": "#E5ECF6",
              "width": 0.5
             },
             "pattern": {
              "fillmode": "overlay",
              "size": 10,
              "solidity": 0.2
             }
            },
            "type": "bar"
           }
          ],
          "barpolar": [
           {
            "marker": {
             "line": {
              "color": "#E5ECF6",
              "width": 0.5
             },
             "pattern": {
              "fillmode": "overlay",
              "size": 10,
              "solidity": 0.2
             }
            },
            "type": "barpolar"
           }
          ],
          "carpet": [
           {
            "aaxis": {
             "endlinecolor": "#2a3f5f",
             "gridcolor": "white",
             "linecolor": "white",
             "minorgridcolor": "white",
             "startlinecolor": "#2a3f5f"
            },
            "baxis": {
             "endlinecolor": "#2a3f5f",
             "gridcolor": "white",
             "linecolor": "white",
             "minorgridcolor": "white",
             "startlinecolor": "#2a3f5f"
            },
            "type": "carpet"
           }
          ],
          "choropleth": [
           {
            "colorbar": {
             "outlinewidth": 0,
             "ticks": ""
            },
            "type": "choropleth"
           }
          ],
          "contour": [
           {
            "colorbar": {
             "outlinewidth": 0,
             "ticks": ""
            },
            "colorscale": [
             [
              0,
              "#0d0887"
             ],
             [
              0.1111111111111111,
              "#46039f"
             ],
             [
              0.2222222222222222,
              "#7201a8"
             ],
             [
              0.3333333333333333,
              "#9c179e"
             ],
             [
              0.4444444444444444,
              "#bd3786"
             ],
             [
              0.5555555555555556,
              "#d8576b"
             ],
             [
              0.6666666666666666,
              "#ed7953"
             ],
             [
              0.7777777777777778,
              "#fb9f3a"
             ],
             [
              0.8888888888888888,
              "#fdca26"
             ],
             [
              1,
              "#f0f921"
             ]
            ],
            "type": "contour"
           }
          ],
          "contourcarpet": [
           {
            "colorbar": {
             "outlinewidth": 0,
             "ticks": ""
            },
            "type": "contourcarpet"
           }
          ],
          "heatmap": [
           {
            "colorbar": {
             "outlinewidth": 0,
             "ticks": ""
            },
            "colorscale": [
             [
              0,
              "#0d0887"
             ],
             [
              0.1111111111111111,
              "#46039f"
             ],
             [
              0.2222222222222222,
              "#7201a8"
             ],
             [
              0.3333333333333333,
              "#9c179e"
             ],
             [
              0.4444444444444444,
              "#bd3786"
             ],
             [
              0.5555555555555556,
              "#d8576b"
             ],
             [
              0.6666666666666666,
              "#ed7953"
             ],
             [
              0.7777777777777778,
              "#fb9f3a"
             ],
             [
              0.8888888888888888,
              "#fdca26"
             ],
             [
              1,
              "#f0f921"
             ]
            ],
            "type": "heatmap"
           }
          ],
          "histogram": [
           {
            "marker": {
             "pattern": {
              "fillmode": "overlay",
              "size": 10,
              "solidity": 0.2
             }
            },
            "type": "histogram"
           }
          ],
          "histogram2d": [
           {
            "colorbar": {
             "outlinewidth": 0,
             "ticks": ""
            },
            "colorscale": [
             [
              0,
              "#0d0887"
             ],
             [
              0.1111111111111111,
              "#46039f"
             ],
             [
              0.2222222222222222,
              "#7201a8"
             ],
             [
              0.3333333333333333,
              "#9c179e"
             ],
             [
              0.4444444444444444,
              "#bd3786"
             ],
             [
              0.5555555555555556,
              "#d8576b"
             ],
             [
              0.6666666666666666,
              "#ed7953"
             ],
             [
              0.7777777777777778,
              "#fb9f3a"
             ],
             [
              0.8888888888888888,
              "#fdca26"
             ],
             [
              1,
              "#f0f921"
             ]
            ],
            "type": "histogram2d"
           }
          ],
          "histogram2dcontour": [
           {
            "colorbar": {
             "outlinewidth": 0,
             "ticks": ""
            },
            "colorscale": [
             [
              0,
              "#0d0887"
             ],
             [
              0.1111111111111111,
              "#46039f"
             ],
             [
              0.2222222222222222,
              "#7201a8"
             ],
             [
              0.3333333333333333,
              "#9c179e"
             ],
             [
              0.4444444444444444,
              "#bd3786"
             ],
             [
              0.5555555555555556,
              "#d8576b"
             ],
             [
              0.6666666666666666,
              "#ed7953"
             ],
             [
              0.7777777777777778,
              "#fb9f3a"
             ],
             [
              0.8888888888888888,
              "#fdca26"
             ],
             [
              1,
              "#f0f921"
             ]
            ],
            "type": "histogram2dcontour"
           }
          ],
          "mesh3d": [
           {
            "colorbar": {
             "outlinewidth": 0,
             "ticks": ""
            },
            "type": "mesh3d"
           }
          ],
          "parcoords": [
           {
            "line": {
             "colorbar": {
              "outlinewidth": 0,
              "ticks": ""
             }
            },
            "type": "parcoords"
           }
          ],
          "pie": [
           {
            "automargin": true,
            "type": "pie"
           }
          ],
          "scatter": [
           {
            "fillpattern": {
             "fillmode": "overlay",
             "size": 10,
             "solidity": 0.2
            },
            "type": "scatter"
           }
          ],
          "scatter3d": [
           {
            "line": {
             "colorbar": {
              "outlinewidth": 0,
              "ticks": ""
             }
            },
            "marker": {
             "colorbar": {
              "outlinewidth": 0,
              "ticks": ""
             }
            },
            "type": "scatter3d"
           }
          ],
          "scattercarpet": [
           {
            "marker": {
             "colorbar": {
              "outlinewidth": 0,
              "ticks": ""
             }
            },
            "type": "scattercarpet"
           }
          ],
          "scattergeo": [
           {
            "marker": {
             "colorbar": {
              "outlinewidth": 0,
              "ticks": ""
             }
            },
            "type": "scattergeo"
           }
          ],
          "scattergl": [
           {
            "marker": {
             "colorbar": {
              "outlinewidth": 0,
              "ticks": ""
             }
            },
            "type": "scattergl"
           }
          ],
          "scattermap": [
           {
            "marker": {
             "colorbar": {
              "outlinewidth": 0,
              "ticks": ""
             }
            },
            "type": "scattermap"
           }
          ],
          "scattermapbox": [
           {
            "marker": {
             "colorbar": {
              "outlinewidth": 0,
              "ticks": ""
             }
            },
            "type": "scattermapbox"
           }
          ],
          "scatterpolar": [
           {
            "marker": {
             "colorbar": {
              "outlinewidth": 0,
              "ticks": ""
             }
            },
            "type": "scatterpolar"
           }
          ],
          "scatterpolargl": [
           {
            "marker": {
             "colorbar": {
              "outlinewidth": 0,
              "ticks": ""
             }
            },
            "type": "scatterpolargl"
           }
          ],
          "scatterternary": [
           {
            "marker": {
             "colorbar": {
              "outlinewidth": 0,
              "ticks": ""
             }
            },
            "type": "scatterternary"
           }
          ],
          "surface": [
           {
            "colorbar": {
             "outlinewidth": 0,
             "ticks": ""
            },
            "colorscale": [
             [
              0,
              "#0d0887"
             ],
             [
              0.1111111111111111,
              "#46039f"
             ],
             [
              0.2222222222222222,
              "#7201a8"
             ],
             [
              0.3333333333333333,
              "#9c179e"
             ],
             [
              0.4444444444444444,
              "#bd3786"
             ],
             [
              0.5555555555555556,
              "#d8576b"
             ],
             [
              0.6666666666666666,
              "#ed7953"
             ],
             [
              0.7777777777777778,
              "#fb9f3a"
             ],
             [
              0.8888888888888888,
              "#fdca26"
             ],
             [
              1,
              "#f0f921"
             ]
            ],
            "type": "surface"
           }
          ],
          "table": [
           {
            "cells": {
             "fill": {
              "color": "#EBF0F8"
             },
             "line": {
              "color": "white"
             }
            },
            "header": {
             "fill": {
              "color": "#C8D4E3"
             },
             "line": {
              "color": "white"
             }
            },
            "type": "table"
           }
          ]
         },
         "layout": {
          "annotationdefaults": {
           "arrowcolor": "#2a3f5f",
           "arrowhead": 0,
           "arrowwidth": 1
          },
          "autotypenumbers": "strict",
          "coloraxis": {
           "colorbar": {
            "outlinewidth": 0,
            "ticks": ""
           }
          },
          "colorscale": {
           "diverging": [
            [
             0,
             "#8e0152"
            ],
            [
             0.1,
             "#c51b7d"
            ],
            [
             0.2,
             "#de77ae"
            ],
            [
             0.3,
             "#f1b6da"
            ],
            [
             0.4,
             "#fde0ef"
            ],
            [
             0.5,
             "#f7f7f7"
            ],
            [
             0.6,
             "#e6f5d0"
            ],
            [
             0.7,
             "#b8e186"
            ],
            [
             0.8,
             "#7fbc41"
            ],
            [
             0.9,
             "#4d9221"
            ],
            [
             1,
             "#276419"
            ]
           ],
           "sequential": [
            [
             0,
             "#0d0887"
            ],
            [
             0.1111111111111111,
             "#46039f"
            ],
            [
             0.2222222222222222,
             "#7201a8"
            ],
            [
             0.3333333333333333,
             "#9c179e"
            ],
            [
             0.4444444444444444,
             "#bd3786"
            ],
            [
             0.5555555555555556,
             "#d8576b"
            ],
            [
             0.6666666666666666,
             "#ed7953"
            ],
            [
             0.7777777777777778,
             "#fb9f3a"
            ],
            [
             0.8888888888888888,
             "#fdca26"
            ],
            [
             1,
             "#f0f921"
            ]
           ],
           "sequentialminus": [
            [
             0,
             "#0d0887"
            ],
            [
             0.1111111111111111,
             "#46039f"
            ],
            [
             0.2222222222222222,
             "#7201a8"
            ],
            [
             0.3333333333333333,
             "#9c179e"
            ],
            [
             0.4444444444444444,
             "#bd3786"
            ],
            [
             0.5555555555555556,
             "#d8576b"
            ],
            [
             0.6666666666666666,
             "#ed7953"
            ],
            [
             0.7777777777777778,
             "#fb9f3a"
            ],
            [
             0.8888888888888888,
             "#fdca26"
            ],
            [
             1,
             "#f0f921"
            ]
           ]
          },
          "colorway": [
           "#636efa",
           "#EF553B",
           "#00cc96",
           "#ab63fa",
           "#FFA15A",
           "#19d3f3",
           "#FF6692",
           "#B6E880",
           "#FF97FF",
           "#FECB52"
          ],
          "font": {
           "color": "#2a3f5f"
          },
          "geo": {
           "bgcolor": "white",
           "lakecolor": "white",
           "landcolor": "#E5ECF6",
           "showlakes": true,
           "showland": true,
           "subunitcolor": "white"
          },
          "hoverlabel": {
           "align": "left"
          },
          "hovermode": "closest",
          "mapbox": {
           "style": "light"
          },
          "paper_bgcolor": "white",
          "plot_bgcolor": "#E5ECF6",
          "polar": {
           "angularaxis": {
            "gridcolor": "white",
            "linecolor": "white",
            "ticks": ""
           },
           "bgcolor": "#E5ECF6",
           "radialaxis": {
            "gridcolor": "white",
            "linecolor": "white",
            "ticks": ""
           }
          },
          "scene": {
           "xaxis": {
            "backgroundcolor": "#E5ECF6",
            "gridcolor": "white",
            "gridwidth": 2,
            "linecolor": "white",
            "showbackground": true,
            "ticks": "",
            "zerolinecolor": "white"
           },
           "yaxis": {
            "backgroundcolor": "#E5ECF6",
            "gridcolor": "white",
            "gridwidth": 2,
            "linecolor": "white",
            "showbackground": true,
            "ticks": "",
            "zerolinecolor": "white"
           },
           "zaxis": {
            "backgroundcolor": "#E5ECF6",
            "gridcolor": "white",
            "gridwidth": 2,
            "linecolor": "white",
            "showbackground": true,
            "ticks": "",
            "zerolinecolor": "white"
           }
          },
          "shapedefaults": {
           "line": {
            "color": "#2a3f5f"
           }
          },
          "ternary": {
           "aaxis": {
            "gridcolor": "white",
            "linecolor": "white",
            "ticks": ""
           },
           "baxis": {
            "gridcolor": "white",
            "linecolor": "white",
            "ticks": ""
           },
           "bgcolor": "#E5ECF6",
           "caxis": {
            "gridcolor": "white",
            "linecolor": "white",
            "ticks": ""
           }
          },
          "title": {
           "x": 0.05
          },
          "xaxis": {
           "automargin": true,
           "gridcolor": "white",
           "linecolor": "white",
           "ticks": "",
           "title": {
            "standoff": 15
           },
           "zerolinecolor": "white",
           "zerolinewidth": 2
          },
          "yaxis": {
           "automargin": true,
           "gridcolor": "white",
           "linecolor": "white",
           "ticks": "",
           "title": {
            "standoff": 15
           },
           "zerolinecolor": "white",
           "zerolinewidth": 2
          }
         }
        },
        "title": {
         "text": "Lineær regresjon: Gjennomsnittlig havnivåstigning over tid"
        },
        "xaxis": {
         "anchor": "y",
         "domain": [
          0,
          1
         ],
         "title": {
          "text": "År"
         }
        },
        "yaxis": {
         "anchor": "x",
         "domain": [
          0,
          1
         ],
         "title": {
          "text": "Havnivå (mm)"
         }
        }
       }
      }
     },
     "metadata": {},
     "output_type": "display_data"
    },
    {
     "name": "stdout",
     "output_type": "stream",
     "text": [
      "✅ Modellen er trent. MSE: 33.38, R²: 0.964\n"
     ]
    }
   ],
   "source": [
    "from pathlib import Path\n",
    "import sys\n",
    "\n",
    "# Legg til src/Havnivådata i importstien\n",
    "project_root = Path.cwd().parents[1]\n",
    "src_path = project_root / \"src\" / \"Havnivådata\"\n",
    "sys.path.append(str(src_path))\n",
    "\n",
    "from Dataprediksjon import HavnivaaPrediksjon\n",
    "\n",
    "# Kjører modellen for prediksjon, kan endre på slutt_år nedenfor\n",
    "modell = HavnivaaPrediksjon(slutt_år=2030)\n",
    "modell.kjør_prediksjon()\n"
   ]
  }
 ],
 "metadata": {
  "kernelspec": {
   "display_name": "venv",
   "language": "python",
   "name": "python3"
  },
  "language_info": {
   "codemirror_mode": {
    "name": "ipython",
    "version": 3
   },
   "file_extension": ".py",
   "mimetype": "text/x-python",
   "name": "python",
   "nbconvert_exporter": "python",
   "pygments_lexer": "ipython3",
   "version": "3.13.1"
  }
 },
 "nbformat": 4,
 "nbformat_minor": 5
}
