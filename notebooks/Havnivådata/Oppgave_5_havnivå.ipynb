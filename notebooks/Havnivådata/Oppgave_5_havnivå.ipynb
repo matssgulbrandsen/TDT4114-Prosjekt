{
 "cells": [
  {
   "cell_type": "markdown",
   "metadata": {},
   "source": [
    "### Program for analyse og visualisering av havnivåstigning"
   ]
  },
  {
   "cell_type": "markdown",
   "metadata": {},
   "source": [
    "Denne koden analyserer og visualiserer endringer i havnivå fra 1992 til 2025. Brukeren kan velge mellom ulike visualiseringer via en interaktiv meny laget med Widgets. Visualiseringene inkluderer linjediagram, punktdiagram, regresjonsanalyse, glidende gjennomsnitt, boksplott og en interaktiv graf laget med Plotly.  Alle grafer er tydelig merket med akser og titler for å gjøre informasjonen lett å forstå. Siden NaN og outlines ble håndert i databehandlingsdelen ser vi bort ifra dette i visualiseringen. Som nevnt tidligere, om det hadde vært manglende data eller ekstreme verdier ville disse blitt håndert ved bruk av sett_usannsynlige_til_nan() og rens_manglende_verdier() før visualiseringen slik at unormale verdier ikke forstyrrer den visuelle presentasjonen."
   ]
  },
  {
   "cell_type": "code",
   "execution_count": 1,
   "metadata": {},
   "outputs": [
    {
     "data": {
      "application/vnd.jupyter.widget-view+json": {
       "model_id": "f96563d8824d4f3a9f507d991b3df1e3",
       "version_major": 2,
       "version_minor": 0
      },
      "text/plain": [
       "VBox(children=(Dropdown(description='Velg graf:', layout=Layout(width='70%'), options=(('📈 Linjediagram: Gjenn…"
      ]
     },
     "metadata": {},
     "output_type": "display_data"
    }
   ],
   "source": [
    "from pathlib import Path\n",
    "import sys\n",
    "\n",
    "# Legg til src/Havnivådata i importstien\n",
    "project_root = Path.cwd().parents[0]\n",
    "src_path = project_root / \"src\" / \"Havnivådata\"\n",
    "sys.path.append(str(src_path))\n",
    "\n",
    "# Importer og bruker klassen\n",
    "from Datavisualisering import Havnivaavisualisering\n",
    "\n",
    "vis = Havnivaavisualisering()\n",
    "from IPython.display import display\n",
    "display(vis.vis_meny())\n",
    "\n",
    "\n",
    "\n"
   ]
  },
  {
   "cell_type": "markdown",
   "metadata": {},
   "source": [
    "## Matplotlib og Seaborn\n",
    "Matplotlib gir fleksibilitet til å lage grunnleggende diagrammer som linjediagrammer, punktdiagrammer og boksplott, som er nyttige for å vise tidsserier og distribusjon. Mens Seaborn bygger på Matplotlib og gjør det enklere å lage mer avanserte visualiseringer som for eksempel regresjonslinjer."
   ]
  },
  {
   "cell_type": "markdown",
   "metadata": {},
   "source": [
    "## Interaktive visualiseringer\n",
    "Interaktive visualiseringer ved bruk av Plotly gir brukeren mer kontroll, som kan hjelpe dem med å oppdage interessante trender eller sammenhenger i dataene. For eksempel kan en interaktiv graf la brukeren zoome inn på spesifikke tidsperioder for å se nøyaktige detaljer. Widgets gir en brukervennlig meny i Jupyter Notebooks og check-boxer for å aktivere regresjonslinjer.\n",
    "\n",
    "Widgets prosess:\n",
    "\n",
    "Først må man importere de nødvendige biblotekene. Jupyter Notebook benyttes ipywidgets for å utvikle et interaktivt brukergrensesnitt som gjør det mulig å velge mellom ulike visualiseringstyper, som for eksempel linjediagram, punktdiagram og regresjonslinje.\n",
    "En dropdown-meny (widgets.Dropdown) gir brukeren muligheten til å velge mellom forskjellige diagramtyper, mens en checkbox (widgets.Checkbox) lar brukeren bestemme om regresjonslinjen skal vises på punktdiagrammene.\n",
    "Når brukeren gjør et valg, enten for å bytte graf eller for å aktivere/deaktivere regresjonslinjen, oppdateres visualiseringen automatisk ved hjelp av en knapp (widgets.Button). Denne knappen aktiverer oppdateringen når brukeren klikker på \"Vis graf\".\n",
    "\n",
    "Plotly prosess:\n",
    "\n",
    "Først må man importere de nødvendige biblotekene. Plotly brukes i funksjonen vis_interaktiv() for å lage interaktive linjediagrammer som viser havnivåstigning per år. Plotly gir brukeren muligheten til å utforske dataene på en dynamisk måte ved å zoome inn og ut, samt få detaljert informasjon når de holder musen over datapunktene.\n",
    "Ved å bruke Plotly Express (px.line) opprettes den interaktive linjegrafen."
   ]
  },
  {
   "cell_type": "markdown",
   "metadata": {},
   "source": [
    "## Konklusjon av funn\n",
    "\n",
    "Datasettet fra NASA gir pålitelig og omfattende informasjon som dekker store deler av verdenshavene. Gjennom både dataanalyse og visualisering fremkommer det tydelig at havnivået har steget fra 1992 til 2025. Den gjennomsnittlige økningen i havnivået er beregnet til omtrent 9 cm i denne perioden, og det er et klart mønster som viser at økningen har akselerert over tid.\n",
    "\n",
    "Videre viser analysen av minimumsverdiene at de laveste havnivåmålingene for hver måned har blitt lavere over tid, mens de høyeste målingene har steget, noe som indikerer økt variasjon i havnivået. Denne trenden understreker den økende uforutsigbarheten og alvorlighetsgraden av havnivåstigning, som har betydelige implikasjoner for kystområder og havrelaterte økosystemer globalt.\n",
    "\n"
   ]
  }
 ],
 "metadata": {
  "kernelspec": {
   "display_name": "venv",
   "language": "python",
   "name": "python3"
  },
  "language_info": {
   "codemirror_mode": {
    "name": "ipython",
    "version": 3
   },
   "file_extension": ".py",
   "mimetype": "text/x-python",
   "name": "python",
   "nbconvert_exporter": "python",
   "pygments_lexer": "ipython3",
   "version": "3.13.1"
  }
 },
 "nbformat": 4,
 "nbformat_minor": 2
}
