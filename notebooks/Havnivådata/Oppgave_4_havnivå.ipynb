{
 "cells": [
  {
   "cell_type": "markdown",
   "metadata": {},
   "source": [
    "## Eventuelle skjevheter\n",
    "Selv om datasettet ble vurdert som komplett og innenfor realistiske verdier i databehandlingsfasen, er det viktig å reflektere rundt mulige skjevheter og hvordan de kunne påvirke analysen. Ettersom vi arbeider med tidsseriedata for havnivå, kan skjevheter oppstå i form av feilmålinger/uvanlige hopp eller trendforskyvning over tid. Trendforsyvninger kan lett identifiseres ved bruk av et linjediagram i visualiseringsdelen. \n",
    "\n",
    "Hadde vi oppdaget ekstreme verdier som lå langt utenfor realistiske havnivå i databehandlingsfasen, ville vi håndtert dette ved bruk av sett_usannsynlige_til_nan() funksjonen og bruke rens_manglende_verdier() videre i analysen og visualiseringen for å få komplette grafer. Da vil NaN eller outliners ble fylt inn ved bruk av valgt metode som f.eks. interpolasjon eller ffill. "
   ]
  },
  {
   "cell_type": "markdown",
   "metadata": {},
   "source": [
    "## Bruk av describe() for å undersøke datasettet\n",
    "Denne funksjonen gir et overordnet bildet av dataen og kan gjøre brukeren oppmerksom på ulike trender eller øyeåpnere. Tabellen viser at standardavviket for mean er svært lavt mens hos både min og max-verdiene er standardavviket mye høyere, noe som indikerer stor variasjon i de ekstreme havnivåmålingene. Dette er forventet fordi havnivået vil variere betydelig fra måned til måned som følge av faktorer som geografisk området, tidevann, stormer, vindforhold og regionale havstrømmer. Ved å undersøke verdiene i de ulike kvartilene og medianen ser vi at min verdiene synker over tid og max og mean-verdiene stiger over tid."
   ]
  },
  {
   "cell_type": "code",
   "execution_count": 3,
   "metadata": {},
   "outputs": [
    {
     "data": {
      "text/html": [
       "<div>\n",
       "<style scoped>\n",
       "    .dataframe tbody tr th:only-of-type {\n",
       "        vertical-align: middle;\n",
       "    }\n",
       "\n",
       "    .dataframe tbody tr th {\n",
       "        vertical-align: top;\n",
       "    }\n",
       "\n",
       "    .dataframe thead th {\n",
       "        text-align: right;\n",
       "    }\n",
       "</style>\n",
       "<table border=\"1\" class=\"dataframe\">\n",
       "  <thead>\n",
       "    <tr style=\"text-align: right;\">\n",
       "      <th></th>\n",
       "      <th>min</th>\n",
       "      <th>mean</th>\n",
       "      <th>max</th>\n",
       "    </tr>\n",
       "  </thead>\n",
       "  <tbody>\n",
       "    <tr>\n",
       "      <th>count</th>\n",
       "      <td>386.000000</td>\n",
       "      <td>386.000000</td>\n",
       "      <td>386.000000</td>\n",
       "    </tr>\n",
       "    <tr>\n",
       "      <th>mean</th>\n",
       "      <td>-0.366911</td>\n",
       "      <td>0.029373</td>\n",
       "      <td>0.434296</td>\n",
       "    </tr>\n",
       "    <tr>\n",
       "      <th>std</th>\n",
       "      <td>0.104515</td>\n",
       "      <td>0.028931</td>\n",
       "      <td>0.120165</td>\n",
       "    </tr>\n",
       "    <tr>\n",
       "      <th>min</th>\n",
       "      <td>-0.727860</td>\n",
       "      <td>-0.022326</td>\n",
       "      <td>0.212865</td>\n",
       "    </tr>\n",
       "    <tr>\n",
       "      <th>25%</th>\n",
       "      <td>-0.417572</td>\n",
       "      <td>0.005810</td>\n",
       "      <td>0.348452</td>\n",
       "    </tr>\n",
       "    <tr>\n",
       "      <th>50%</th>\n",
       "      <td>-0.351001</td>\n",
       "      <td>0.024730</td>\n",
       "      <td>0.409959</td>\n",
       "    </tr>\n",
       "    <tr>\n",
       "      <th>75%</th>\n",
       "      <td>-0.289406</td>\n",
       "      <td>0.053100</td>\n",
       "      <td>0.483461</td>\n",
       "    </tr>\n",
       "    <tr>\n",
       "      <th>max</th>\n",
       "      <td>-0.188627</td>\n",
       "      <td>0.093230</td>\n",
       "      <td>0.837300</td>\n",
       "    </tr>\n",
       "  </tbody>\n",
       "</table>\n",
       "</div>"
      ],
      "text/plain": [
       "              min        mean         max\n",
       "count  386.000000  386.000000  386.000000\n",
       "mean    -0.366911    0.029373    0.434296\n",
       "std      0.104515    0.028931    0.120165\n",
       "min     -0.727860   -0.022326    0.212865\n",
       "25%     -0.417572    0.005810    0.348452\n",
       "50%     -0.351001    0.024730    0.409959\n",
       "75%     -0.289406    0.053100    0.483461\n",
       "max     -0.188627    0.093230    0.837300"
      ]
     },
     "execution_count": 3,
     "metadata": {},
     "output_type": "execute_result"
    }
   ],
   "source": [
    "from pathlib import Path\n",
    "import sys\n",
    "\n",
    "project_root = Path.cwd().parents[1]\n",
    "src_path = project_root / \"src\" / \"Havnivådata\"\n",
    "sys.path.append(str(src_path))\n",
    "\n",
    "from Dataanalyse import beskriv_statistikk\n",
    "\n",
    "beskriv_statistikk(\"../../data/Havnivådata/havnivaadata.json\")"
   ]
  },
  {
   "cell_type": "markdown",
   "metadata": {},
   "source": [
    "## Beregning av gjennomsnitt, median og standardavvik ved bruk av NumPy\n",
    "Benytter NumPy til å beregne statistiske mål for kolonnene min, mean og max i datasettet. Ved bruk av funksjonene np.mean(), np.median() og np.std() får vi verdier som beskriver sentral verdi og variasjon i dataene. Dette viser hvordan NumPy kan brukes som et selvstendig verktøy for statistisk analyse, og gir bedre forståelse av hvordan disse målene faktisk beregnes."
   ]
  },
  {
   "cell_type": "code",
   "execution_count": 1,
   "metadata": {},
   "outputs": [
    {
     "name": "stdout",
     "output_type": "stream",
     "text": [
      "\n",
      "  Statistikk for 'min':\n",
      "  Gjennomsnitt: -0.36691\n",
      "  Median: -0.35100\n",
      "  Standardavvik: 0.10452\n",
      "\n",
      "  Statistikk for 'mean':\n",
      "  Gjennomsnitt: 0.02937\n",
      "  Median: 0.02473\n",
      "  Standardavvik: 0.02893\n",
      "\n",
      "  Statistikk for 'max':\n",
      "  Gjennomsnitt: 0.43430\n",
      "  Median: 0.40996\n",
      "  Standardavvik: 0.12017\n"
     ]
    }
   ],
   "source": [
    "from pathlib import Path\n",
    "import sys\n",
    "\n",
    "project_root = Path.cwd().parents[1]\n",
    "src_path = project_root / \"src\" / \"Havnivådata\"\n",
    "sys.path.append(str(src_path))\n",
    "\n",
    "from Dataanalyse import beregn_statistikk_numpy\n",
    "\n",
    "statistikk = beregn_statistikk_numpy(\"../../data/Havnivådata/havnivaadata.json\")\n",
    "for kol, stats in statistikk.items():\n",
    "    print(f\"\\n  Statistikk for '{kol}':\")\n",
    "    for navn, verdi in stats.items():\n",
    "        print(f\"  {navn.capitalize()}: {verdi:.5f}\")\n"
   ]
  },
  {
   "cell_type": "markdown",
   "metadata": {},
   "source": [
    "### Undersøker eventuell korrelasjon mellom gjennomsnittlig havnivåstigning og tid\n",
    "For å undersøke hvorvidt havnivået har steget jevnt over tid, beregnes Pearson-korrelasjon mellom måned og gjennomsnittlig havnivå. Verdien varierer mellom -1 og 1. En korrelasjon nær 1 indikerer en sterk positiv sammenheng (havnivået stiger over tid). En korrelasjon nær -1 indikerer en sterk negativ sammenheng (havnivået synker). En korrelasjon nær 0 betyr at det ikke er noen tydelig sammenheng."
   ]
  },
  {
   "cell_type": "code",
   "execution_count": 2,
   "metadata": {},
   "outputs": [
    {
     "name": "stdout",
     "output_type": "stream",
     "text": [
      "\n",
      " Pearson korrelasjon mellom måneder og havnivåstigning: 0.976\n",
      " Sterk positiv sammenheng! – havnivået stiger jevnt over tid.\n"
     ]
    }
   ],
   "source": [
    "from pathlib import Path\n",
    "import sys\n",
    "\n",
    "project_root = Path.cwd().parents[1]\n",
    "src_path = project_root / \"src\" / \"Havnivådata\"\n",
    "sys.path.append(str(src_path))\n",
    "\n",
    "from Dataanalyse import beregn_korrelasjon_mnd_vs_mean\n",
    "\n",
    "beregn_korrelasjon_mnd_vs_mean(\"../../data/Havnivådata/havnivaadata.json\")\n"
   ]
  },
  {
   "cell_type": "markdown",
   "metadata": {},
   "source": [
    "## Vurdering av stabilitet i \"mean\" kolonnen\n",
    "Ønsker å identifisert noen uvanlige hopp eller feilverdier i mean-verdiene fra måned til måned, basert på grensen satt til tre ganger standardavvik. Dette er gunstig å vite før man trekker eventuelle konklusjoner."
   ]
  },
  {
   "cell_type": "code",
   "execution_count": 3,
   "metadata": {},
   "outputs": [
    {
     "data": {
      "text/html": [
       "<div>\n",
       "<style scoped>\n",
       "    .dataframe tbody tr th:only-of-type {\n",
       "        vertical-align: middle;\n",
       "    }\n",
       "\n",
       "    .dataframe tbody tr th {\n",
       "        vertical-align: top;\n",
       "    }\n",
       "\n",
       "    .dataframe thead th {\n",
       "        text-align: right;\n",
       "    }\n",
       "</style>\n",
       "<table border=\"1\" class=\"dataframe\">\n",
       "  <thead>\n",
       "    <tr style=\"text-align: right;\">\n",
       "      <th></th>\n",
       "      <th>iso_time</th>\n",
       "      <th>mean</th>\n",
       "      <th>mean_diff</th>\n",
       "    </tr>\n",
       "  </thead>\n",
       "  <tbody>\n",
       "  </tbody>\n",
       "</table>\n",
       "</div>"
      ],
      "text/plain": [
       "Empty DataFrame\n",
       "Columns: [iso_time, mean, mean_diff]\n",
       "Index: []"
      ]
     },
     "metadata": {},
     "output_type": "display_data"
    },
    {
     "name": "stdout",
     "output_type": "stream",
     "text": [
      "Ingen uvanlige hopp i dataserien ble oppdaget. Datasettet i mean kolonnen vurderes som stabilt.\n"
     ]
    }
   ],
   "source": [
    "from pathlib import Path\n",
    "import sys\n",
    "\n",
    "project_root = Path.cwd().parents[1]\n",
    "src_path = project_root / \"src\" / \"Havnivådata\"\n",
    "sys.path.append(str(src_path))\n",
    "\n",
    "from Dataanalyse import finn_mistenkelige_hopp\n",
    "\n",
    "avvik = finn_mistenkelige_hopp(\"../../data/Havnivådata/havnivaadata.json\")\n",
    "display(avvik)\n",
    "if avvik.empty:\n",
    "    print(\"Ingen uvanlige hopp i dataserien ble oppdaget. Datasettet i mean kolonnen vurderes som stabilt.\")"
   ]
  }
 ],
 "metadata": {
  "kernelspec": {
   "display_name": "venv",
   "language": "python",
   "name": "python3"
  },
  "language_info": {
   "codemirror_mode": {
    "name": "ipython",
    "version": 3
   },
   "file_extension": ".py",
   "mimetype": "text/x-python",
   "name": "python",
   "nbconvert_exporter": "python",
   "pygments_lexer": "ipython3",
   "version": "3.13.1"
  }
 },
 "nbformat": 4,
 "nbformat_minor": 2
}
