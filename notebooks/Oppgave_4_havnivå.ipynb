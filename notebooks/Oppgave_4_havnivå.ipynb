{
 "cells": [
  {
   "cell_type": "markdown",
   "metadata": {},
   "source": [
    "### NumPy og Pandas er brukt til å beregne gjennomsnitt, median og standardavvik.\n"
   ]
  },
  {
   "cell_type": "code",
   "execution_count": 15,
   "metadata": {},
   "outputs": [
    {
     "name": "stdout",
     "output_type": "stream",
     "text": [
      "Antall usaklige verdier: 0\n",
      "\n",
      "Gjennomsnitt: 0.029373403279491547\n",
      "Median: 0.024730028380728995\n",
      "Standardavvik: 0.02889329956410606\n"
     ]
    }
   ],
   "source": [
    "import numpy as np\n",
    "import pandas as pd\n",
    "import requests\n",
    "\n",
    "# Hent data fra NASA Sea Level API\n",
    "response = requests.get(\n",
    "    \"https://sealevel-nexus.jpl.nasa.gov/timeSeriesSpark\",\n",
    "    params={\n",
    "        \"ds\": \"NASA_SSH_REF_SIMPLE_GRID_V1_Monthly\",\n",
    "        \"b\": \"-180.0,-90.0,180.0,90.0\",\n",
    "        \"startTime\": \"1992-01-01T00:00:00Z\",\n",
    "        \"endTime\": \"2025-01-01T00:00:00Z\",\n",
    "        \"output\": \"JSON\"\n",
    "    }\n",
    ")\n",
    "\n",
    "# Sjekk at responsen er god\n",
    "if response.ok and \"data\" in response.json():\n",
    "    raw_data = [item for sublist in response.json()[\"data\"] for item in sublist]\n",
    "    df = pd.DataFrame(raw_data)\n",
    "else:\n",
    "    raise ValueError(\"Feil ved henting av data.\")\n",
    "\n",
    "# Filtrer gyldige havnivåverdier\n",
    "valid_mean = df['mean'].dropna()\n",
    "valid_mean = valid_mean[valid_mean.between(-0.1, 0.1)]\n",
    "invalid_count = len(df) - len(valid_mean)\n",
    "\n",
    "# Beregn statistiske mål med NumPy\n",
    "gjennomsnitt = np.mean(valid_mean)\n",
    "median = np.median(valid_mean)\n",
    "std_avvik = np.std(valid_mean)\n",
    "\n",
    "# Print resultatene\n",
    "print(f\"Antall usaklige verdier: {invalid_count}\")\n",
    "print(f\"\\nGjennomsnitt: {gjennomsnitt}\")\n",
    "print(f\"Median: {median}\")\n",
    "print(f\"Standardavvik: {std_avvik}\")\n"
   ]
  },
  {
   "cell_type": "markdown",
   "metadata": {},
   "source": [
    "### Undersøker korrelasjon mellom havnivåstigning og tid ved bruk av Pearson-korrelasjon. \n",
    "En korrelasjon nær 1 indikerer en sterk positiv sammenheng (havnivået øker over tid). En korrelasjon nær -1 indikerer en sterk negativ sammenheng (havnivået synker). En korrelasjon nær 0 betyr at det ikke er noen tydelig sammenheng."
   ]
  },
  {
   "cell_type": "code",
   "execution_count": 2,
   "metadata": {},
   "outputs": [
    {
     "name": "stdout",
     "output_type": "stream",
     "text": [
      "Korrelasjon mellom tid og havnivå: 0.9758431979304274\n"
     ]
    }
   ],
   "source": [
    "import numpy as np\n",
    "import pandas as pd\n",
    "import requests\n",
    "from datetime import datetime\n",
    "from scipy.stats import pearsonr\n",
    "\n",
    "# (Samme hentekode som før...)\n",
    "response = requests.get(\n",
    "    \"https://sealevel-nexus.jpl.nasa.gov/timeSeriesSpark\",\n",
    "    params={\n",
    "        \"ds\": \"NASA_SSH_REF_SIMPLE_GRID_V1_Monthly\",\n",
    "        \"b\": \"-180.0,-90.0,180.0,90.0\",\n",
    "        \"startTime\": \"1992-01-01T00:00:00Z\",\n",
    "        \"endTime\": \"2025-01-01T00:00:00Z\",\n",
    "        \"output\": \"JSON\"\n",
    "    }\n",
    ")\n",
    "\n",
    "if response.ok and \"data\" in response.json():\n",
    "    raw_data = [item for sublist in response.json()[\"data\"] for item in sublist]\n",
    "    df = pd.DataFrame(raw_data)\n",
    "else:\n",
    "    raise ValueError(\"Feil ved henting av data.\")\n",
    "\n",
    "# Filtrer og forbered data\n",
    "df = df.dropna(subset=[\"mean\", \"iso_time\"])\n",
    "df = df[df[\"mean\"].between(-0.1, 0.1)]\n",
    "\n",
    "# Gjør tid om til tall (for eksempel antall dager siden start)\n",
    "df[\"iso_time\"] = pd.to_datetime(df[\"iso_time\"])\n",
    "df[\"tid_i_dager\"] = (df[\"iso_time\"] - df[\"iso_time\"].min()).dt.days\n",
    "\n",
    "# Beregn korrelasjon mellom tid og havnivå\n",
    "korrelasjon, _ = pearsonr(df[\"tid_i_dager\"], df[\"mean\"])\n",
    "print(f\"Korrelasjon mellom tid og havnivå: {korrelasjon}\")\n"
   ]
  }
 ],
 "metadata": {
  "kernelspec": {
   "display_name": "venv",
   "language": "python",
   "name": "python3"
  },
  "language_info": {
   "codemirror_mode": {
    "name": "ipython",
    "version": 3
   },
   "file_extension": ".py",
   "mimetype": "text/x-python",
   "name": "python",
   "nbconvert_exporter": "python",
   "pygments_lexer": "ipython3",
   "version": "3.13.1"
  }
 },
 "nbformat": 4,
 "nbformat_minor": 2
}
