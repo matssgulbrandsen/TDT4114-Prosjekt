{
 "cells": [
  {
   "cell_type": "markdown",
   "metadata": {},
   "source": [
    "### NumPy og Pandas er brukt til å beregne gjennomsnitt, median og standardavvik av gjennomsnittsmålingene av havnivåstigningen. \n"
   ]
  },
  {
   "cell_type": "code",
   "execution_count": 6,
   "metadata": {},
   "outputs": [
    {
     "name": "stdout",
     "output_type": "stream",
     "text": [
      "Antall usaklige verdier: 0\n",
      "\n",
      "Gjennomsnittlig havnivåstigning per mnd i meter: 0.029373403279491547\n",
      "Medianen av havnivåstigningen i meter: 0.024730028380728995\n",
      "Standardavvik av havnivåstigningen i meter: 0.02889329956410606\n"
     ]
    }
   ],
   "source": [
    "import numpy as np\n",
    "import pandas as pd\n",
    "import requests\n",
    "\n",
    "# Hent data fra NASA Sea Level API\n",
    "response = requests.get(\n",
    "    \"https://sealevel-nexus.jpl.nasa.gov/timeSeriesSpark\",\n",
    "    params={\n",
    "        \"ds\": \"NASA_SSH_REF_SIMPLE_GRID_V1_Monthly\",\n",
    "        \"b\": \"-180.0,-90.0,180.0,90.0\",\n",
    "        \"startTime\": \"1992-01-01T00:00:00Z\",\n",
    "        \"endTime\": \"2025-01-01T00:00:00Z\",\n",
    "        \"output\": \"JSON\"\n",
    "    }\n",
    ")\n",
    "\n",
    "# Sjekk at responsen er god\n",
    "if response.ok and \"data\" in response.json():\n",
    "    raw_data = [item for sublist in response.json()[\"data\"] for item in sublist]\n",
    "    df = pd.DataFrame(raw_data)\n",
    "else:\n",
    "    raise ValueError(\"Feil ved henting av data.\")\n",
    "\n",
    "# Setter en grense for gyldige verdier og filtrer bort ugyldige havnivåverdier \n",
    "valid_mean = df['mean'].dropna()\n",
    "valid_mean = valid_mean[valid_mean.between(-0.1, 0.1)]\n",
    "invalid_count = len(df) - len(valid_mean)\n",
    "\n",
    "# Beregn statistiske mål med NumPy\n",
    "gjennomsnitt = np.mean(valid_mean)\n",
    "median = np.median(valid_mean)\n",
    "std_avvik = np.std(valid_mean)\n",
    "\n",
    "# Print resultatene\n",
    "print(f\"Antall usaklige verdier: {invalid_count}\")\n",
    "print(f\"\\nGjennomsnittlig havnivåstigning per mnd i meter: {gjennomsnitt}\")\n",
    "print(f\"Medianen av havnivåstigningen i meter: {median}\")\n",
    "print(f\"Standardavvik av havnivåstigningen i meter: {std_avvik}\")\n"
   ]
  },
  {
   "cell_type": "markdown",
   "metadata": {},
   "source": [
    "### Undersøker korrelasjon mellom gjennomsnittlig havnivåstigning og tid ved bruk av Pearson-korrelasjon. \n",
    "En korrelasjon nær 1 indikerer en sterk positiv sammenheng (havnivået øker over tid). En korrelasjon nær -1 indikerer en sterk negativ sammenheng (havnivået synker). En korrelasjon nær 0 betyr at det ikke er noen tydelig sammenheng."
   ]
  },
  {
   "cell_type": "code",
   "execution_count": 7,
   "metadata": {},
   "outputs": [
    {
     "name": "stdout",
     "output_type": "stream",
     "text": [
      "\n",
      "Sammenheng mellom år og havnivåstigning (1992–2025): 0.972\n",
      "📈 Sterk positiv sammenheng – havnivået øker over tid.\n"
     ]
    }
   ],
   "source": [
    "import numpy as np\n",
    "import pandas as pd\n",
    "import requests\n",
    "from datetime import datetime\n",
    "from scipy.stats import pearsonr\n",
    "\n",
    "# Hent data fra API\n",
    "response = requests.get(\n",
    "    \"https://sealevel-nexus.jpl.nasa.gov/timeSeriesSpark\",\n",
    "    params={\n",
    "        \"ds\": \"NASA_SSH_REF_SIMPLE_GRID_V1_Monthly\",\n",
    "        \"b\": \"-180.0,-90.0,180.0,90.0\",\n",
    "        \"startTime\": \"1992-01-01T00:00:00Z\",\n",
    "        \"endTime\": \"2025-01-01T00:00:00Z\",\n",
    "        \"output\": \"JSON\"\n",
    "    }\n",
    ")\n",
    "\n",
    "if response.ok and \"data\" in response.json():\n",
    "    raw_data = [item for sublist in response.json()[\"data\"] for item in sublist]\n",
    "    df = pd.DataFrame(raw_data)\n",
    "else:\n",
    "    raise ValueError(\"Feil ved henting av data.\")\n",
    "\n",
    "# Forbered og filtrer data\n",
    "df[\"iso_time\"] = pd.to_datetime(df[\"iso_time\"])\n",
    "df[\"år\"] = df[\"iso_time\"].dt.year\n",
    "df[\"mean_mm\"] = df[\"mean\"] * 1000\n",
    "\n",
    "# Fjern åpenbare feil og interpoler\n",
    "df = df[df[\"mean\"].between(-1, 1)]\n",
    "df[\"mean_mm\"] = df[\"mean_mm\"].interpolate()\n",
    "\n",
    "# Beregn korrelasjon mellom år og havnivå\n",
    "korrelasjon, _ = pearsonr(df[\"år\"], df[\"mean_mm\"])\n",
    "\n",
    "# Vis resultat med tolkning\n",
    "print(f\"\\nSammenheng mellom år og havnivåstigning (1992–2025): {korrelasjon:.3f}\")\n",
    "if korrelasjon > 0.7:\n",
    "    print(\"📈 Sterk positiv sammenheng – havnivået øker over tid.\")\n",
    "elif korrelasjon < -0.7:\n",
    "    print(\"📉 Sterk negativ sammenheng – havnivået synker over tid.\")\n",
    "else:\n",
    "    print(\"➖ Svak eller ingen klar sammenheng.\")\n"
   ]
  }
 ],
 "metadata": {
  "kernelspec": {
   "display_name": "venv",
   "language": "python",
   "name": "python3"
  },
  "language_info": {
   "codemirror_mode": {
    "name": "ipython",
    "version": 3
   },
   "file_extension": ".py",
   "mimetype": "text/x-python",
   "name": "python",
   "nbconvert_exporter": "python",
   "pygments_lexer": "ipython3",
   "version": "3.13.1"
  }
 },
 "nbformat": 4,
 "nbformat_minor": 2
}
