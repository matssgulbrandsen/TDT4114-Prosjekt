{
 "cells": [
  {
   "cell_type": "code",
   "execution_count": null,
   "metadata": {},
   "outputs": [
    {
     "name": "stdout",
     "output_type": "stream",
     "text": [
      "Lastet ned: NETCDF4_LSASAF_MSG_ALBEDOv2_MSG-Disk_200406210000.nc\n",
      "Lastet ned: NETCDF4_LSASAF_MSG_ALBEDOv2_MSG-Disk_200506210000.nc\n",
      "Lastet ned: NETCDF4_LSASAF_MSG_ALBEDOv2_MSG-Disk_200606210000.nc\n",
      "Lastet ned: NETCDF4_LSASAF_MSG_ALBEDOv2_MSG-Disk_200706210000.nc\n",
      "Lastet ned: NETCDF4_LSASAF_MSG_ALBEDOv2_MSG-Disk_200806210000.nc\n",
      "Lastet ned: NETCDF4_LSASAF_MSG_ALBEDOv2_MSG-Disk_200906210000.nc\n",
      "Lastet ned: NETCDF4_LSASAF_MSG_ALBEDOv2_MSG-Disk_201006210000.nc\n",
      "Lastet ned: NETCDF4_LSASAF_MSG_ALBEDOv2_MSG-Disk_201106210000.nc\n",
      "Lastet ned: NETCDF4_LSASAF_MSG_ALBEDOv2_MSG-Disk_201206210000.nc\n",
      "Lastet ned: NETCDF4_LSASAF_MSG_ALBEDOv2_MSG-Disk_201306210000.nc\n",
      "Lastet ned: NETCDF4_LSASAF_MSG_ALBEDOv2_MSG-Disk_201406210000.nc\n",
      "Lastet ned: NETCDF4_LSASAF_MSG_ALBEDOv2_MSG-Disk_201506210000.nc\n",
      "Feil 404: Kan ikke laste ned https://datalsasaf.lsasvcs.ipma.pt/PRODUCTS/MSG/MDALv2/NETCDF/2016/06/21/NETCDF4_LSASAF_MSG_ALBEDOv2_MSG-Disk_201606210000.nc\n",
      "Lastet ned: NETCDF4_LSASAF_MSG_ALBEDOv2_MSG-Disk_201706210000.nc\n",
      "Lastet ned: NETCDF4_LSASAF_MSG_ALBEDOv2_MSG-Disk_201806210000.nc\n",
      "Lastet ned: NETCDF4_LSASAF_MSG_ALBEDOv2_MSG-Disk_201906210000.nc\n",
      "Lastet ned: NETCDF4_LSASAF_MSG_ALBEDOv2_MSG-Disk_202006210000.nc\n",
      "Lastet ned: NETCDF4_LSASAF_MSG_ALBEDOv2_MSG-Disk_202106210000.nc\n",
      "Lastet ned: NETCDF4_LSASAF_MSG_ALBEDOv2_MSG-Disk_202206210000.nc\n",
      "Lastet ned: NETCDF4_LSASAF_MSG_ALBEDOv2_MSG-Disk_202306210000.nc\n",
      "Lastet ned: NETCDF4_LSASAF_MSG_ALBEDOv2_MSG-Disk_202406210000.nc\n",
      "Alle tilgjengelige filer er forsøkt lastet ned.\n"
     ]
    }
   ],
   "source": [
    "import os\n",
    "import requests\n",
    "from datetime import datetime, timedelta\n",
    "from requests.auth import HTTPBasicAuth\n",
    "\n",
    "# Brukernavn og passord for autentisering\n",
    "username = 'matsgulbrandsen'\n",
    "password = 'V2.ShXbmWRZ!S9a'\n",
    "\n",
    "# Start- og sluttdato\n",
    "start_date = datetime(2004, 6, 21)  # Dag etter sommersolverv\n",
    "end_date = datetime(2024, 6, 21)\n",
    "\n",
    "# Base URL\n",
    "base_url = \"https://datalsasaf.lsasvcs.ipma.pt/PRODUCTS/MSG/MDALv2/NETCDF\"\n",
    "\n",
    "# Sett download_folder til å lagre filene i data-mappen\n",
    "download_folder = os.path.join(\"..\", \"data\", \"netcdf_downloads\")\n",
    "os.makedirs(download_folder, exist_ok=True)\n",
    "\n",
    "# Funksjon for å laste ned filene\n",
    "def download_file(current_date):\n",
    "    # Formatter datoene riktig\n",
    "    date_path = current_date.strftime(\"%Y/%m/%d\")  # gjør om dato til tekst Eks: 2004/06/21\n",
    "    date_filename = current_date.strftime(\"%Y%m%d0000\")  #-||- Eks: 200406210000\n",
    "\n",
    "    # Full URL til filen\n",
    "    file_url = f\"{base_url}/{date_path}/NETCDF4_LSASAF_MSG_ALBEDOv2_MSG-Disk_{date_filename}.nc\"\n",
    "\n",
    "    # Lokalt filnavn\n",
    "    file_name = f\"NETCDF4_LSASAF_MSG_ALBEDOv2_MSG-Disk_{date_filename}.nc\"\n",
    "    file_path = os.path.join(download_folder, file_name)\n",
    "\n",
    "    try:\n",
    "        # Bruker Basic Authentication for å laste ned filen\n",
    "        response = requests.get(file_url, auth=HTTPBasicAuth(username, password))\n",
    "\n",
    "        if response.status_code == 200:\n",
    "            with open(file_path, \"wb\") as file:\n",
    "                file.write(response.content)\n",
    "            print(f\"Lastet ned: {file_name}\")\n",
    "        else:\n",
    "            print(f\"Feil {response.status_code}: Kan ikke laste ned {file_url}\")\n",
    "\n",
    "    except requests.exceptions.RequestException as e:\n",
    "        print(f\"Feil ved nedlasting: {e}\")\n",
    "\n",
    "# Last ned filer én etter én\n",
    "current_date = start_date\n",
    "while current_date <= end_date:\n",
    "    download_file(current_date)  # Kall funksjonen direkte uten parallellitet\n",
    "    current_date = current_date.replace(year=current_date.year + 1) # Laster ned årlige filer\n",
    "\n",
    "\n",
    "print(\"Alle tilgjengelige filer er forsøkt lastet ned.\")"
   ]
  }
 ],
 "metadata": {
  "kernelspec": {
   "display_name": "venv",
   "language": "python",
   "name": "python3"
  },
  "language_info": {
   "codemirror_mode": {
    "name": "ipython",
    "version": 3
   },
   "file_extension": ".py",
   "mimetype": "text/x-python",
   "name": "python",
   "nbconvert_exporter": "python",
   "pygments_lexer": "ipython3",
   "version": "3.13.1"
  }
 },
 "nbformat": 4,
 "nbformat_minor": 2
}
