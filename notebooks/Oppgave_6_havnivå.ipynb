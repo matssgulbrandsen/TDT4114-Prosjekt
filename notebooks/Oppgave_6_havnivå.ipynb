{
 "cells": [
  {
   "cell_type": "markdown",
   "id": "204207a8",
   "metadata": {},
   "source": [
    "### Prediktiv analyse ved bruk av scikit-learn"
   ]
  },
  {
   "cell_type": "markdown",
   "id": "97468fd9",
   "metadata": {},
   "source": [
    "Her har vi gjennomført en prediktiv analyse ved hjelp av lineær regresjon for å undersøke fremtidig havnivåstigning. Vi startet med å hente og rense data ved å fjerne feilverdier og interpolere manglende målinger. Deretter forberedte vi datasettet ved å konvertere tid til desimalår og identifiserte gjennomsnittlig havnivå som målvariabel. Regresjonsmodell ble trent med scikit-learn og vurderer nøyaktigheten med MSE og R²-score. Modellen predikere havnivåstigningen frem til det året brukeren ønsker ved å endre variabelen \"prediksjonsår\" og visualiserte resultatene i en interaktiv graf med Plotly. Dersom brukeren setter prediksjonåret veldig langt inn i fremtiden er det større sjangse for at prediksjonen vil avvike fra virkeligheten."
   ]
  },
  {
   "cell_type": "code",
   "execution_count": 6,
   "id": "eddf9657",
   "metadata": {},
   "outputs": [
    {
     "name": "stderr",
     "output_type": "stream",
     "text": [
      "c:\\Users\\madsj\\OneDrive\\Dokumenter\\tdt4114\\TDT4114-Prosjekt\\src\\Havnivådata\\Dataprediksjon.py:42: UserWarning:\n",
      "\n",
      "Converting to PeriodArray/Index representation will drop timezone information.\n",
      "\n",
      "c:\\Users\\madsj\\OneDrive\\Dokumenter\\tdt4114\\TDT4114-Prosjekt\\venv\\Lib\\site-packages\\sklearn\\utils\\validation.py:2732: UserWarning:\n",
      "\n",
      "X has feature names, but LinearRegression was fitted without feature names\n",
      "\n"
     ]
    },
    {
     "data": {
      "application/vnd.plotly.v1+json": {
       "config": {
        "plotlyServerURL": "https://plot.ly"
       },
       "data": [
        {
         "hovertemplate": "År=%{x}<br>Havnivå (mm)=%{y}<extra></extra>",
         "legendgroup": "",
         "line": {
          "color": "#636efa",
          "dash": "solid",
          "shape": "linear"
         },
         "marker": {
          "symbol": "circle"
         },
         "mode": "lines",
         "name": "",
         "orientation": "v",
         "showlegend": false,
         "type": "scatter",
         "x": {
          "bdata": "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",
          "dtype": "f8"
         },
         "xaxis": "x",
         "y": {
          "bdata": "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",
          "dtype": "f8"
         },
         "yaxis": "y"
        },
        {
         "line": {
          "color": "red"
         },
         "mode": "lines",
         "name": "Predikert til 2028",
         "type": "scatter",
         "x": {
          "bdata": "AAAAAACkn0BVVVVVVaSfQKqqqqqqpJ9A//////+kn0BUVVVVVaWfQKmqqqqqpZ9A/v////+ln0BTVVVVVaafQKiqqqqqpp9A/f////+mn0BSVVVVVaefQKeqqqqqp59A/P////+nn0BRVVVVVaifQKaqqqqqqJ9A+/////+on0BQVVVVVamfQKWqqqqqqZ9A+v////+pn0BPVVVVVaqfQKSqqqqqqp9A+f////+qn0BOVVVVVaufQKOqqqqqq59A+P////+rn0BNVVVVVayfQKKqqqqqrJ9A9/////+sn0BMVVVVVa2fQKGqqqqqrZ9A9v////+tn0BLVVVVVa6fQKCqqqqqrp9A9f////+un0BKVVVVVa+fQJ+qqqqqr59A9P////+vn0BJVVVVVbCfQJ6qqqqqsJ9A8/////+wn0BIVVVVVbGfQJ2qqqqqsZ9A8v////+xn0BHVVVVVbKfQJyqqqqqsp9A8f////+yn0BGVVVVVbOfQJuqqqqqs59A",
          "dtype": "f8"
         },
         "y": {
          "bdata": "AJQDFRUoU0AA+PYA3TdTQEBc6uykR1NAQMDd2GxXU0CAJNHENGdTQMCIxLD8dlNAwOy3nMSGU0AAUauIjJZTQAC1nnRUplNAQBmSYBy2U0CAfYVM5MVTQIDheDis1VNAwEVsJHTlU0DAqV8QPPVTQAAOU/wDBVRAQHJG6MsUVEBA1jnUkyRUQIA6LcBbNFRAgJ4grCNEVEDAAhSY61NUQABnB4SzY1RAAMv6b3tzVEBAL+5bQ4NUQECT4UcLk1RAgPfUM9OiVEDAW8gfm7JUQMC/uwtjwlRAACSv9yrSVEAAiKLj8uFUQEDslc+68VRAgFCJu4IBVUCAtHynShFVQMAYcJMSIVVAAH1jf9owVUAA4VZrokBVQEBFSldqUFVAQKk9QzJgVUCADTEv+m9VQMBxJBvCf1VAwNUXB4qPVUAAOgvzUZ9VQACe/t4Zr1VAQALyyuG+VUCAZuW2qc5VQIDK2KJx3lVAwC7MjjnuVUDAkr96Af5VQAD3smbJDVZA",
          "dtype": "f8"
         }
        }
       ],
       "layout": {
        "legend": {
         "tracegroupgap": 0
        },
        "showlegend": true,
        "template": {
         "data": {
          "bar": [
           {
            "error_x": {
             "color": "#2a3f5f"
            },
            "error_y": {
             "color": "#2a3f5f"
            },
            "marker": {
             "line": {
              "color": "#E5ECF6",
              "width": 0.5
             },
             "pattern": {
              "fillmode": "overlay",
              "size": 10,
              "solidity": 0.2
             }
            },
            "type": "bar"
           }
          ],
          "barpolar": [
           {
            "marker": {
             "line": {
              "color": "#E5ECF6",
              "width": 0.5
             },
             "pattern": {
              "fillmode": "overlay",
              "size": 10,
              "solidity": 0.2
             }
            },
            "type": "barpolar"
           }
          ],
          "carpet": [
           {
            "aaxis": {
             "endlinecolor": "#2a3f5f",
             "gridcolor": "white",
             "linecolor": "white",
             "minorgridcolor": "white",
             "startlinecolor": "#2a3f5f"
            },
            "baxis": {
             "endlinecolor": "#2a3f5f",
             "gridcolor": "white",
             "linecolor": "white",
             "minorgridcolor": "white",
             "startlinecolor": "#2a3f5f"
            },
            "type": "carpet"
           }
          ],
          "choropleth": [
           {
            "colorbar": {
             "outlinewidth": 0,
             "ticks": ""
            },
            "type": "choropleth"
           }
          ],
          "contour": [
           {
            "colorbar": {
             "outlinewidth": 0,
             "ticks": ""
            },
            "colorscale": [
             [
              0,
              "#0d0887"
             ],
             [
              0.1111111111111111,
              "#46039f"
             ],
             [
              0.2222222222222222,
              "#7201a8"
             ],
             [
              0.3333333333333333,
              "#9c179e"
             ],
             [
              0.4444444444444444,
              "#bd3786"
             ],
             [
              0.5555555555555556,
              "#d8576b"
             ],
             [
              0.6666666666666666,
              "#ed7953"
             ],
             [
              0.7777777777777778,
              "#fb9f3a"
             ],
             [
              0.8888888888888888,
              "#fdca26"
             ],
             [
              1,
              "#f0f921"
             ]
            ],
            "type": "contour"
           }
          ],
          "contourcarpet": [
           {
            "colorbar": {
             "outlinewidth": 0,
             "ticks": ""
            },
            "type": "contourcarpet"
           }
          ],
          "heatmap": [
           {
            "colorbar": {
             "outlinewidth": 0,
             "ticks": ""
            },
            "colorscale": [
             [
              0,
              "#0d0887"
             ],
             [
              0.1111111111111111,
              "#46039f"
             ],
             [
              0.2222222222222222,
              "#7201a8"
             ],
             [
              0.3333333333333333,
              "#9c179e"
             ],
             [
              0.4444444444444444,
              "#bd3786"
             ],
             [
              0.5555555555555556,
              "#d8576b"
             ],
             [
              0.6666666666666666,
              "#ed7953"
             ],
             [
              0.7777777777777778,
              "#fb9f3a"
             ],
             [
              0.8888888888888888,
              "#fdca26"
             ],
             [
              1,
              "#f0f921"
             ]
            ],
            "type": "heatmap"
           }
          ],
          "histogram": [
           {
            "marker": {
             "pattern": {
              "fillmode": "overlay",
              "size": 10,
              "solidity": 0.2
             }
            },
            "type": "histogram"
           }
          ],
          "histogram2d": [
           {
            "colorbar": {
             "outlinewidth": 0,
             "ticks": ""
            },
            "colorscale": [
             [
              0,
              "#0d0887"
             ],
             [
              0.1111111111111111,
              "#46039f"
             ],
             [
              0.2222222222222222,
              "#7201a8"
             ],
             [
              0.3333333333333333,
              "#9c179e"
             ],
             [
              0.4444444444444444,
              "#bd3786"
             ],
             [
              0.5555555555555556,
              "#d8576b"
             ],
             [
              0.6666666666666666,
              "#ed7953"
             ],
             [
              0.7777777777777778,
              "#fb9f3a"
             ],
             [
              0.8888888888888888,
              "#fdca26"
             ],
             [
              1,
              "#f0f921"
             ]
            ],
            "type": "histogram2d"
           }
          ],
          "histogram2dcontour": [
           {
            "colorbar": {
             "outlinewidth": 0,
             "ticks": ""
            },
            "colorscale": [
             [
              0,
              "#0d0887"
             ],
             [
              0.1111111111111111,
              "#46039f"
             ],
             [
              0.2222222222222222,
              "#7201a8"
             ],
             [
              0.3333333333333333,
              "#9c179e"
             ],
             [
              0.4444444444444444,
              "#bd3786"
             ],
             [
              0.5555555555555556,
              "#d8576b"
             ],
             [
              0.6666666666666666,
              "#ed7953"
             ],
             [
              0.7777777777777778,
              "#fb9f3a"
             ],
             [
              0.8888888888888888,
              "#fdca26"
             ],
             [
              1,
              "#f0f921"
             ]
            ],
            "type": "histogram2dcontour"
           }
          ],
          "mesh3d": [
           {
            "colorbar": {
             "outlinewidth": 0,
             "ticks": ""
            },
            "type": "mesh3d"
           }
          ],
          "parcoords": [
           {
            "line": {
             "colorbar": {
              "outlinewidth": 0,
              "ticks": ""
             }
            },
            "type": "parcoords"
           }
          ],
          "pie": [
           {
            "automargin": true,
            "type": "pie"
           }
          ],
          "scatter": [
           {
            "fillpattern": {
             "fillmode": "overlay",
             "size": 10,
             "solidity": 0.2
            },
            "type": "scatter"
           }
          ],
          "scatter3d": [
           {
            "line": {
             "colorbar": {
              "outlinewidth": 0,
              "ticks": ""
             }
            },
            "marker": {
             "colorbar": {
              "outlinewidth": 0,
              "ticks": ""
             }
            },
            "type": "scatter3d"
           }
          ],
          "scattercarpet": [
           {
            "marker": {
             "colorbar": {
              "outlinewidth": 0,
              "ticks": ""
             }
            },
            "type": "scattercarpet"
           }
          ],
          "scattergeo": [
           {
            "marker": {
             "colorbar": {
              "outlinewidth": 0,
              "ticks": ""
             }
            },
            "type": "scattergeo"
           }
          ],
          "scattergl": [
           {
            "marker": {
             "colorbar": {
              "outlinewidth": 0,
              "ticks": ""
             }
            },
            "type": "scattergl"
           }
          ],
          "scattermap": [
           {
            "marker": {
             "colorbar": {
              "outlinewidth": 0,
              "ticks": ""
             }
            },
            "type": "scattermap"
           }
          ],
          "scattermapbox": [
           {
            "marker": {
             "colorbar": {
              "outlinewidth": 0,
              "ticks": ""
             }
            },
            "type": "scattermapbox"
           }
          ],
          "scatterpolar": [
           {
            "marker": {
             "colorbar": {
              "outlinewidth": 0,
              "ticks": ""
             }
            },
            "type": "scatterpolar"
           }
          ],
          "scatterpolargl": [
           {
            "marker": {
             "colorbar": {
              "outlinewidth": 0,
              "ticks": ""
             }
            },
            "type": "scatterpolargl"
           }
          ],
          "scatterternary": [
           {
            "marker": {
             "colorbar": {
              "outlinewidth": 0,
              "ticks": ""
             }
            },
            "type": "scatterternary"
           }
          ],
          "surface": [
           {
            "colorbar": {
             "outlinewidth": 0,
             "ticks": ""
            },
            "colorscale": [
             [
              0,
              "#0d0887"
             ],
             [
              0.1111111111111111,
              "#46039f"
             ],
             [
              0.2222222222222222,
              "#7201a8"
             ],
             [
              0.3333333333333333,
              "#9c179e"
             ],
             [
              0.4444444444444444,
              "#bd3786"
             ],
             [
              0.5555555555555556,
              "#d8576b"
             ],
             [
              0.6666666666666666,
              "#ed7953"
             ],
             [
              0.7777777777777778,
              "#fb9f3a"
             ],
             [
              0.8888888888888888,
              "#fdca26"
             ],
             [
              1,
              "#f0f921"
             ]
            ],
            "type": "surface"
           }
          ],
          "table": [
           {
            "cells": {
             "fill": {
              "color": "#EBF0F8"
             },
             "line": {
              "color": "white"
             }
            },
            "header": {
             "fill": {
              "color": "#C8D4E3"
             },
             "line": {
              "color": "white"
             }
            },
            "type": "table"
           }
          ]
         },
         "layout": {
          "annotationdefaults": {
           "arrowcolor": "#2a3f5f",
           "arrowhead": 0,
           "arrowwidth": 1
          },
          "autotypenumbers": "strict",
          "coloraxis": {
           "colorbar": {
            "outlinewidth": 0,
            "ticks": ""
           }
          },
          "colorscale": {
           "diverging": [
            [
             0,
             "#8e0152"
            ],
            [
             0.1,
             "#c51b7d"
            ],
            [
             0.2,
             "#de77ae"
            ],
            [
             0.3,
             "#f1b6da"
            ],
            [
             0.4,
             "#fde0ef"
            ],
            [
             0.5,
             "#f7f7f7"
            ],
            [
             0.6,
             "#e6f5d0"
            ],
            [
             0.7,
             "#b8e186"
            ],
            [
             0.8,
             "#7fbc41"
            ],
            [
             0.9,
             "#4d9221"
            ],
            [
             1,
             "#276419"
            ]
           ],
           "sequential": [
            [
             0,
             "#0d0887"
            ],
            [
             0.1111111111111111,
             "#46039f"
            ],
            [
             0.2222222222222222,
             "#7201a8"
            ],
            [
             0.3333333333333333,
             "#9c179e"
            ],
            [
             0.4444444444444444,
             "#bd3786"
            ],
            [
             0.5555555555555556,
             "#d8576b"
            ],
            [
             0.6666666666666666,
             "#ed7953"
            ],
            [
             0.7777777777777778,
             "#fb9f3a"
            ],
            [
             0.8888888888888888,
             "#fdca26"
            ],
            [
             1,
             "#f0f921"
            ]
           ],
           "sequentialminus": [
            [
             0,
             "#0d0887"
            ],
            [
             0.1111111111111111,
             "#46039f"
            ],
            [
             0.2222222222222222,
             "#7201a8"
            ],
            [
             0.3333333333333333,
             "#9c179e"
            ],
            [
             0.4444444444444444,
             "#bd3786"
            ],
            [
             0.5555555555555556,
             "#d8576b"
            ],
            [
             0.6666666666666666,
             "#ed7953"
            ],
            [
             0.7777777777777778,
             "#fb9f3a"
            ],
            [
             0.8888888888888888,
             "#fdca26"
            ],
            [
             1,
             "#f0f921"
            ]
           ]
          },
          "colorway": [
           "#636efa",
           "#EF553B",
           "#00cc96",
           "#ab63fa",
           "#FFA15A",
           "#19d3f3",
           "#FF6692",
           "#B6E880",
           "#FF97FF",
           "#FECB52"
          ],
          "font": {
           "color": "#2a3f5f"
          },
          "geo": {
           "bgcolor": "white",
           "lakecolor": "white",
           "landcolor": "#E5ECF6",
           "showlakes": true,
           "showland": true,
           "subunitcolor": "white"
          },
          "hoverlabel": {
           "align": "left"
          },
          "hovermode": "closest",
          "mapbox": {
           "style": "light"
          },
          "paper_bgcolor": "white",
          "plot_bgcolor": "#E5ECF6",
          "polar": {
           "angularaxis": {
            "gridcolor": "white",
            "linecolor": "white",
            "ticks": ""
           },
           "bgcolor": "#E5ECF6",
           "radialaxis": {
            "gridcolor": "white",
            "linecolor": "white",
            "ticks": ""
           }
          },
          "scene": {
           "xaxis": {
            "backgroundcolor": "#E5ECF6",
            "gridcolor": "white",
            "gridwidth": 2,
            "linecolor": "white",
            "showbackground": true,
            "ticks": "",
            "zerolinecolor": "white"
           },
           "yaxis": {
            "backgroundcolor": "#E5ECF6",
            "gridcolor": "white",
            "gridwidth": 2,
            "linecolor": "white",
            "showbackground": true,
            "ticks": "",
            "zerolinecolor": "white"
           },
           "zaxis": {
            "backgroundcolor": "#E5ECF6",
            "gridcolor": "white",
            "gridwidth": 2,
            "linecolor": "white",
            "showbackground": true,
            "ticks": "",
            "zerolinecolor": "white"
           }
          },
          "shapedefaults": {
           "line": {
            "color": "#2a3f5f"
           }
          },
          "ternary": {
           "aaxis": {
            "gridcolor": "white",
            "linecolor": "white",
            "ticks": ""
           },
           "baxis": {
            "gridcolor": "white",
            "linecolor": "white",
            "ticks": ""
           },
           "bgcolor": "#E5ECF6",
           "caxis": {
            "gridcolor": "white",
            "linecolor": "white",
            "ticks": ""
           }
          },
          "title": {
           "x": 0.05
          },
          "xaxis": {
           "automargin": true,
           "gridcolor": "white",
           "linecolor": "white",
           "ticks": "",
           "title": {
            "standoff": 15
           },
           "zerolinecolor": "white",
           "zerolinewidth": 2
          },
          "yaxis": {
           "automargin": true,
           "gridcolor": "white",
           "linecolor": "white",
           "ticks": "",
           "title": {
            "standoff": 15
           },
           "zerolinecolor": "white",
           "zerolinewidth": 2
          }
         }
        },
        "title": {
         "text": "Lineær regresjon: Gjennomsnittlig havnivåstigning over tid"
        },
        "xaxis": {
         "anchor": "y",
         "domain": [
          0,
          1
         ],
         "title": {
          "text": "År"
         }
        },
        "yaxis": {
         "anchor": "x",
         "domain": [
          0,
          1
         ],
         "title": {
          "text": "Havnivå (mm)"
         }
        }
       }
      }
     },
     "metadata": {},
     "output_type": "display_data"
    },
    {
     "name": "stdout",
     "output_type": "stream",
     "text": [
      "✅ Modellen er trent. MSE: 34.41, R²: 0.956\n"
     ]
    }
   ],
   "source": [
    "from pathlib import Path\n",
    "import sys\n",
    "\n",
    "# Legg til src/Havnivådata i importstien\n",
    "project_root = Path.cwd().parents[0]\n",
    "src_path = project_root / \"src\" / \"Havnivådata\"\n",
    "sys.path.append(str(src_path))\n",
    "\n",
    "from Dataprediksjon import HavnivaaPrediksjon\n",
    "\n",
    "# Kjører modellen, kan endre på slutt_år nedenfor\n",
    "modell = HavnivaaPrediksjon(slutt_år=2028)\n",
    "modell.kjør_prediksjon()\n"
   ]
  },
  {
   "cell_type": "code",
   "execution_count": null,
   "id": "1d18de1f",
   "metadata": {},
   "outputs": [
    {
     "name": "stderr",
     "output_type": "stream",
     "text": [
      "C:\\Users\\madsj\\AppData\\Local\\Temp\\ipykernel_28056\\2606320175.py:39: UserWarning:\n",
      "\n",
      "Converting to PeriodArray/Index representation will drop timezone information.\n",
      "\n",
      "c:\\Users\\madsj\\OneDrive\\Dokumenter\\tdt4114\\TDT4114-Prosjekt\\venv\\Lib\\site-packages\\sklearn\\utils\\validation.py:2732: UserWarning:\n",
      "\n",
      "X has feature names, but LinearRegression was fitted without feature names\n",
      "\n"
     ]
    },
    {
     "name": "stdout",
     "output_type": "stream",
     "text": [
      "Modellen er trent. MSE: 34.41, R²: 0.956\n"
     ]
    },
    {
     "data": {
      "application/vnd.plotly.v1+json": {
       "config": {
        "plotlyServerURL": "https://plot.ly"
       },
       "data": [
        {
         "hovertemplate": "År=%{x}<br>Havnivå (mm)=%{y}<extra></extra>",
         "legendgroup": "",
         "line": {
          "color": "#636efa",
          "dash": "solid",
          "shape": "linear"
         },
         "marker": {
          "symbol": "circle"
         },
         "mode": "lines",
         "name": "",
         "orientation": "v",
         "showlegend": false,
         "type": "scatter",
         "x": {
          "bdata": "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",
          "dtype": "f8"
         },
         "xaxis": "x",
         "y": {
          "bdata": "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",
          "dtype": "f8"
         },
         "yaxis": "y"
        },
        {
         "line": {
          "color": "red"
         },
         "mode": "lines",
         "name": "Predikert til 2100",
         "type": "scatter",
         "x": {
          "bdata": "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",
          "dtype": "f8"
         },
         "y": {
          "bdata": "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",
          "dtype": "f8"
         }
        }
       ],
       "layout": {
        "legend": {
         "tracegroupgap": 0
        },
        "showlegend": true,
        "template": {
         "data": {
          "bar": [
           {
            "error_x": {
             "color": "#2a3f5f"
            },
            "error_y": {
             "color": "#2a3f5f"
            },
            "marker": {
             "line": {
              "color": "#E5ECF6",
              "width": 0.5
             },
             "pattern": {
              "fillmode": "overlay",
              "size": 10,
              "solidity": 0.2
             }
            },
            "type": "bar"
           }
          ],
          "barpolar": [
           {
            "marker": {
             "line": {
              "color": "#E5ECF6",
              "width": 0.5
             },
             "pattern": {
              "fillmode": "overlay",
              "size": 10,
              "solidity": 0.2
             }
            },
            "type": "barpolar"
           }
          ],
          "carpet": [
           {
            "aaxis": {
             "endlinecolor": "#2a3f5f",
             "gridcolor": "white",
             "linecolor": "white",
             "minorgridcolor": "white",
             "startlinecolor": "#2a3f5f"
            },
            "baxis": {
             "endlinecolor": "#2a3f5f",
             "gridcolor": "white",
             "linecolor": "white",
             "minorgridcolor": "white",
             "startlinecolor": "#2a3f5f"
            },
            "type": "carpet"
           }
          ],
          "choropleth": [
           {
            "colorbar": {
             "outlinewidth": 0,
             "ticks": ""
            },
            "type": "choropleth"
           }
          ],
          "contour": [
           {
            "colorbar": {
             "outlinewidth": 0,
             "ticks": ""
            },
            "colorscale": [
             [
              0,
              "#0d0887"
             ],
             [
              0.1111111111111111,
              "#46039f"
             ],
             [
              0.2222222222222222,
              "#7201a8"
             ],
             [
              0.3333333333333333,
              "#9c179e"
             ],
             [
              0.4444444444444444,
              "#bd3786"
             ],
             [
              0.5555555555555556,
              "#d8576b"
             ],
             [
              0.6666666666666666,
              "#ed7953"
             ],
             [
              0.7777777777777778,
              "#fb9f3a"
             ],
             [
              0.8888888888888888,
              "#fdca26"
             ],
             [
              1,
              "#f0f921"
             ]
            ],
            "type": "contour"
           }
          ],
          "contourcarpet": [
           {
            "colorbar": {
             "outlinewidth": 0,
             "ticks": ""
            },
            "type": "contourcarpet"
           }
          ],
          "heatmap": [
           {
            "colorbar": {
             "outlinewidth": 0,
             "ticks": ""
            },
            "colorscale": [
             [
              0,
              "#0d0887"
             ],
             [
              0.1111111111111111,
              "#46039f"
             ],
             [
              0.2222222222222222,
              "#7201a8"
             ],
             [
              0.3333333333333333,
              "#9c179e"
             ],
             [
              0.4444444444444444,
              "#bd3786"
             ],
             [
              0.5555555555555556,
              "#d8576b"
             ],
             [
              0.6666666666666666,
              "#ed7953"
             ],
             [
              0.7777777777777778,
              "#fb9f3a"
             ],
             [
              0.8888888888888888,
              "#fdca26"
             ],
             [
              1,
              "#f0f921"
             ]
            ],
            "type": "heatmap"
           }
          ],
          "histogram": [
           {
            "marker": {
             "pattern": {
              "fillmode": "overlay",
              "size": 10,
              "solidity": 0.2
             }
            },
            "type": "histogram"
           }
          ],
          "histogram2d": [
           {
            "colorbar": {
             "outlinewidth": 0,
             "ticks": ""
            },
            "colorscale": [
             [
              0,
              "#0d0887"
             ],
             [
              0.1111111111111111,
              "#46039f"
             ],
             [
              0.2222222222222222,
              "#7201a8"
             ],
             [
              0.3333333333333333,
              "#9c179e"
             ],
             [
              0.4444444444444444,
              "#bd3786"
             ],
             [
              0.5555555555555556,
              "#d8576b"
             ],
             [
              0.6666666666666666,
              "#ed7953"
             ],
             [
              0.7777777777777778,
              "#fb9f3a"
             ],
             [
              0.8888888888888888,
              "#fdca26"
             ],
             [
              1,
              "#f0f921"
             ]
            ],
            "type": "histogram2d"
           }
          ],
          "histogram2dcontour": [
           {
            "colorbar": {
             "outlinewidth": 0,
             "ticks": ""
            },
            "colorscale": [
             [
              0,
              "#0d0887"
             ],
             [
              0.1111111111111111,
              "#46039f"
             ],
             [
              0.2222222222222222,
              "#7201a8"
             ],
             [
              0.3333333333333333,
              "#9c179e"
             ],
             [
              0.4444444444444444,
              "#bd3786"
             ],
             [
              0.5555555555555556,
              "#d8576b"
             ],
             [
              0.6666666666666666,
              "#ed7953"
             ],
             [
              0.7777777777777778,
              "#fb9f3a"
             ],
             [
              0.8888888888888888,
              "#fdca26"
             ],
             [
              1,
              "#f0f921"
             ]
            ],
            "type": "histogram2dcontour"
           }
          ],
          "mesh3d": [
           {
            "colorbar": {
             "outlinewidth": 0,
             "ticks": ""
            },
            "type": "mesh3d"
           }
          ],
          "parcoords": [
           {
            "line": {
             "colorbar": {
              "outlinewidth": 0,
              "ticks": ""
             }
            },
            "type": "parcoords"
           }
          ],
          "pie": [
           {
            "automargin": true,
            "type": "pie"
           }
          ],
          "scatter": [
           {
            "fillpattern": {
             "fillmode": "overlay",
             "size": 10,
             "solidity": 0.2
            },
            "type": "scatter"
           }
          ],
          "scatter3d": [
           {
            "line": {
             "colorbar": {
              "outlinewidth": 0,
              "ticks": ""
             }
            },
            "marker": {
             "colorbar": {
              "outlinewidth": 0,
              "ticks": ""
             }
            },
            "type": "scatter3d"
           }
          ],
          "scattercarpet": [
           {
            "marker": {
             "colorbar": {
              "outlinewidth": 0,
              "ticks": ""
             }
            },
            "type": "scattercarpet"
           }
          ],
          "scattergeo": [
           {
            "marker": {
             "colorbar": {
              "outlinewidth": 0,
              "ticks": ""
             }
            },
            "type": "scattergeo"
           }
          ],
          "scattergl": [
           {
            "marker": {
             "colorbar": {
              "outlinewidth": 0,
              "ticks": ""
             }
            },
            "type": "scattergl"
           }
          ],
          "scattermap": [
           {
            "marker": {
             "colorbar": {
              "outlinewidth": 0,
              "ticks": ""
             }
            },
            "type": "scattermap"
           }
          ],
          "scattermapbox": [
           {
            "marker": {
             "colorbar": {
              "outlinewidth": 0,
              "ticks": ""
             }
            },
            "type": "scattermapbox"
           }
          ],
          "scatterpolar": [
           {
            "marker": {
             "colorbar": {
              "outlinewidth": 0,
              "ticks": ""
             }
            },
            "type": "scatterpolar"
           }
          ],
          "scatterpolargl": [
           {
            "marker": {
             "colorbar": {
              "outlinewidth": 0,
              "ticks": ""
             }
            },
            "type": "scatterpolargl"
           }
          ],
          "scatterternary": [
           {
            "marker": {
             "colorbar": {
              "outlinewidth": 0,
              "ticks": ""
             }
            },
            "type": "scatterternary"
           }
          ],
          "surface": [
           {
            "colorbar": {
             "outlinewidth": 0,
             "ticks": ""
            },
            "colorscale": [
             [
              0,
              "#0d0887"
             ],
             [
              0.1111111111111111,
              "#46039f"
             ],
             [
              0.2222222222222222,
              "#7201a8"
             ],
             [
              0.3333333333333333,
              "#9c179e"
             ],
             [
              0.4444444444444444,
              "#bd3786"
             ],
             [
              0.5555555555555556,
              "#d8576b"
             ],
             [
              0.6666666666666666,
              "#ed7953"
             ],
             [
              0.7777777777777778,
              "#fb9f3a"
             ],
             [
              0.8888888888888888,
              "#fdca26"
             ],
             [
              1,
              "#f0f921"
             ]
            ],
            "type": "surface"
           }
          ],
          "table": [
           {
            "cells": {
             "fill": {
              "color": "#EBF0F8"
             },
             "line": {
              "color": "white"
             }
            },
            "header": {
             "fill": {
              "color": "#C8D4E3"
             },
             "line": {
              "color": "white"
             }
            },
            "type": "table"
           }
          ]
         },
         "layout": {
          "annotationdefaults": {
           "arrowcolor": "#2a3f5f",
           "arrowhead": 0,
           "arrowwidth": 1
          },
          "autotypenumbers": "strict",
          "coloraxis": {
           "colorbar": {
            "outlinewidth": 0,
            "ticks": ""
           }
          },
          "colorscale": {
           "diverging": [
            [
             0,
             "#8e0152"
            ],
            [
             0.1,
             "#c51b7d"
            ],
            [
             0.2,
             "#de77ae"
            ],
            [
             0.3,
             "#f1b6da"
            ],
            [
             0.4,
             "#fde0ef"
            ],
            [
             0.5,
             "#f7f7f7"
            ],
            [
             0.6,
             "#e6f5d0"
            ],
            [
             0.7,
             "#b8e186"
            ],
            [
             0.8,
             "#7fbc41"
            ],
            [
             0.9,
             "#4d9221"
            ],
            [
             1,
             "#276419"
            ]
           ],
           "sequential": [
            [
             0,
             "#0d0887"
            ],
            [
             0.1111111111111111,
             "#46039f"
            ],
            [
             0.2222222222222222,
             "#7201a8"
            ],
            [
             0.3333333333333333,
             "#9c179e"
            ],
            [
             0.4444444444444444,
             "#bd3786"
            ],
            [
             0.5555555555555556,
             "#d8576b"
            ],
            [
             0.6666666666666666,
             "#ed7953"
            ],
            [
             0.7777777777777778,
             "#fb9f3a"
            ],
            [
             0.8888888888888888,
             "#fdca26"
            ],
            [
             1,
             "#f0f921"
            ]
           ],
           "sequentialminus": [
            [
             0,
             "#0d0887"
            ],
            [
             0.1111111111111111,
             "#46039f"
            ],
            [
             0.2222222222222222,
             "#7201a8"
            ],
            [
             0.3333333333333333,
             "#9c179e"
            ],
            [
             0.4444444444444444,
             "#bd3786"
            ],
            [
             0.5555555555555556,
             "#d8576b"
            ],
            [
             0.6666666666666666,
             "#ed7953"
            ],
            [
             0.7777777777777778,
             "#fb9f3a"
            ],
            [
             0.8888888888888888,
             "#fdca26"
            ],
            [
             1,
             "#f0f921"
            ]
           ]
          },
          "colorway": [
           "#636efa",
           "#EF553B",
           "#00cc96",
           "#ab63fa",
           "#FFA15A",
           "#19d3f3",
           "#FF6692",
           "#B6E880",
           "#FF97FF",
           "#FECB52"
          ],
          "font": {
           "color": "#2a3f5f"
          },
          "geo": {
           "bgcolor": "white",
           "lakecolor": "white",
           "landcolor": "#E5ECF6",
           "showlakes": true,
           "showland": true,
           "subunitcolor": "white"
          },
          "hoverlabel": {
           "align": "left"
          },
          "hovermode": "closest",
          "mapbox": {
           "style": "light"
          },
          "paper_bgcolor": "white",
          "plot_bgcolor": "#E5ECF6",
          "polar": {
           "angularaxis": {
            "gridcolor": "white",
            "linecolor": "white",
            "ticks": ""
           },
           "bgcolor": "#E5ECF6",
           "radialaxis": {
            "gridcolor": "white",
            "linecolor": "white",
            "ticks": ""
           }
          },
          "scene": {
           "xaxis": {
            "backgroundcolor": "#E5ECF6",
            "gridcolor": "white",
            "gridwidth": 2,
            "linecolor": "white",
            "showbackground": true,
            "ticks": "",
            "zerolinecolor": "white"
           },
           "yaxis": {
            "backgroundcolor": "#E5ECF6",
            "gridcolor": "white",
            "gridwidth": 2,
            "linecolor": "white",
            "showbackground": true,
            "ticks": "",
            "zerolinecolor": "white"
           },
           "zaxis": {
            "backgroundcolor": "#E5ECF6",
            "gridcolor": "white",
            "gridwidth": 2,
            "linecolor": "white",
            "showbackground": true,
            "ticks": "",
            "zerolinecolor": "white"
           }
          },
          "shapedefaults": {
           "line": {
            "color": "#2a3f5f"
           }
          },
          "ternary": {
           "aaxis": {
            "gridcolor": "white",
            "linecolor": "white",
            "ticks": ""
           },
           "baxis": {
            "gridcolor": "white",
            "linecolor": "white",
            "ticks": ""
           },
           "bgcolor": "#E5ECF6",
           "caxis": {
            "gridcolor": "white",
            "linecolor": "white",
            "ticks": ""
           }
          },
          "title": {
           "x": 0.05
          },
          "xaxis": {
           "automargin": true,
           "gridcolor": "white",
           "linecolor": "white",
           "ticks": "",
           "title": {
            "standoff": 15
           },
           "zerolinecolor": "white",
           "zerolinewidth": 2
          },
          "yaxis": {
           "automargin": true,
           "gridcolor": "white",
           "linecolor": "white",
           "ticks": "",
           "title": {
            "standoff": 15
           },
           "zerolinecolor": "white",
           "zerolinewidth": 2
          }
         }
        },
        "title": {
         "text": "Lineær regresjon: Gjennomsnittlig havnivåstigning over tid"
        },
        "xaxis": {
         "anchor": "y",
         "domain": [
          0,
          1
         ],
         "title": {
          "text": "År"
         }
        },
        "yaxis": {
         "anchor": "x",
         "domain": [
          0,
          1
         ],
         "title": {
          "text": "Havnivå (mm)"
         }
        }
       }
      }
     },
     "metadata": {},
     "output_type": "display_data"
    }
   ],
   "source": [
    "import numpy as np\n",
    "import pandas as pd\n",
    "import requests\n",
    "from datetime import datetime\n",
    "from scipy.stats import pearsonr\n",
    "import plotly.express as px\n",
    "import plotly.io as pio\n",
    "import ipywidgets as widgets\n",
    "from IPython.display import display, clear_output\n",
    "\n",
    "from sklearn.linear_model import LinearRegression\n",
    "from sklearn.metrics import mean_squared_error, r2_score\n",
    "\n",
    "# Plotly konfig\n",
    "pio.renderers.default = \"vscode\"\n",
    "\n",
    "# Henting av data\n",
    "response = requests.get(\n",
    "    \"https://sealevel-nexus.jpl.nasa.gov/timeSeriesSpark\",\n",
    "    params={\n",
    "        \"ds\": \"NASA_SSH_REF_SIMPLE_GRID_V1_Monthly\",\n",
    "        \"b\": \"-180.0,-90.0,180.0,90.0\",\n",
    "        \"startTime\": \"1992-01-01T00:00:00Z\",\n",
    "        \"endTime\": \"2025-01-01T00:00:00Z\",\n",
    "        \"output\": \"JSON\"\n",
    "    }\n",
    ")\n",
    "\n",
    "# Konverter JSON til DataFrame\n",
    "if response.ok and \"data\" in response.json():\n",
    "    raw_data = [item for sublist in response.json()[\"data\"] for item in sublist]\n",
    "    df = pd.DataFrame(raw_data)\n",
    "else:\n",
    "    raise ValueError(\"Feil ved henting av data.\")\n",
    "\n",
    "# Formater tid og enheter\n",
    "df[\"iso_time\"] = pd.to_datetime(df[\"iso_time\"])\n",
    "df[\"år\"] = df[\"iso_time\"].dt.year\n",
    "df[\"måned\"] = df[\"iso_time\"].dt.to_period(\"M\")\n",
    "df[\"mean_mm\"] = df[\"mean\"] * 1000\n",
    "df[\"min_mm\"] = df[\"min\"] * 1000\n",
    "df[\"max_mm\"] = df[\"max\"] * 1000\n",
    "\n",
    "# Rensing\n",
    "grenser = {\n",
    "    \"mean\": (-1, 1),\n",
    "    \"min\": (-1, 1),\n",
    "    \"max\": (-1, 0.6)\n",
    "}\n",
    "ugyldig = pd.Series(False, index=df.index)\n",
    "for kolonne, (min_grense, max_grense) in grenser.items():\n",
    "    ugyldig |= ~df[kolonne].between(min_grense, max_grense)\n",
    "df.loc[ugyldig, [\"mean_mm\", \"min_mm\", \"max_mm\"]] = np.nan\n",
    "df[[\"mean_mm\", \"min_mm\", \"max_mm\"]] = df[[\"mean_mm\", \"min_mm\", \"max_mm\"]].interpolate(method=\"linear\")\n",
    "df_renset = df.copy()\n",
    "\n",
    "# === LINEÆR REGRESJON OG PREDIKSJON ===\n",
    "\n",
    "# Forbered data\n",
    "df_renset[\"år_decimal\"] = df_renset[\"iso_time\"].dt.year + df_renset[\"iso_time\"].dt.month / 12\n",
    "X = df_renset[[\"år_decimal\"]].values\n",
    "y = df_renset[\"mean_mm\"].values\n",
    "\n",
    "# Tren modellen\n",
    "modell = LinearRegression()\n",
    "modell.fit(X, y)\n",
    "\n",
    "# Evaluer\n",
    "y_pred = modell.predict(X)\n",
    "mse = mean_squared_error(y, y_pred)\n",
    "r2 = r2_score(y, y_pred)\n",
    "\n",
    "print(f\"Modellen er trent. MSE: {mse:.2f}, R²: {r2:.3f}\")\n",
    "\n",
    "# Variabel for hvor lenge vi skal predikere \n",
    "prediksjonsår = 2100\n",
    "\n",
    "# Fremtidig prediksjon til det angitte året\n",
    "framtid = pd.DataFrame({\n",
    "    \"år_decimal\": np.arange(2025, prediksjonsår + 1, 1/12)\n",
    "})\n",
    "framtid[\"mean_mm_pred\"] = modell.predict(framtid[[\"år_decimal\"]])\n",
    "\n",
    "# Visualisering med Plotly\n",
    "fig = px.line(\n",
    "    df_renset, \n",
    "    x=\"år_decimal\", \n",
    "    y=\"mean_mm\", \n",
    "    title=\"Lineær regresjon: Gjennomsnittlig havnivåstigning over tid\", \n",
    "    labels={\"år_decimal\": \"År\", \"mean_mm\": \"Havnivå (mm)\"},\n",
    "    line_shape='linear'\n",
    ")\n",
    "\n",
    "fig.add_scatter(\n",
    "    x=framtid[\"år_decimal\"], \n",
    "    y=framtid[\"mean_mm_pred\"], \n",
    "    mode=\"lines\", \n",
    "    name=f\"Predikert til {prediksjonsår}\", \n",
    "    line=dict(color=\"red\")\n",
    ")\n",
    "\n",
    "fig.update_layout(\n",
    "    title=\"Lineær regresjon: Gjennomsnittlig havnivåstigning over tid\",\n",
    "    xaxis_title=\"År\",\n",
    "    yaxis_title=\"Havnivå (mm)\",\n",
    "    showlegend=True\n",
    ")\n",
    "\n",
    "fig.show()\n"
   ]
  }
 ],
 "metadata": {
  "kernelspec": {
   "display_name": "venv",
   "language": "python",
   "name": "python3"
  },
  "language_info": {
   "codemirror_mode": {
    "name": "ipython",
    "version": 3
   },
   "file_extension": ".py",
   "mimetype": "text/x-python",
   "name": "python",
   "nbconvert_exporter": "python",
   "pygments_lexer": "ipython3",
   "version": "3.13.1"
  }
 },
 "nbformat": 4,
 "nbformat_minor": 5
}
