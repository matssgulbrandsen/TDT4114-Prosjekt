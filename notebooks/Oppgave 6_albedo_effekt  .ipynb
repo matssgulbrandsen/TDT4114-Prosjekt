{
 "cells": [
  {
   "cell_type": "markdown",
   "metadata": {},
   "source": [
    "# Albeno effekt\n",
    "---\n"
   ]
  },
  {
   "cell_type": "markdown",
   "metadata": {},
   "source": [
    "#### Kode 1\n",
    "Her ser vi igjen på utviklingen i gjennomsnittlig albedo over tid for faste punkter med høy albedo og lav feilmargin, basert på data fra 2004 til 2024. Det er laget en prediksjonsmodell ved hjelp av lineær regresjon, som estimerer albedo de neste fem årene. Tre ulike visualiseringer linjediagram, søylediagram og scatterplot er implementert for å formidle både historiske trender og fremtidige estimater. Brukeren kan interaktivt velge for å utforske dataene visuelt.\n"
   ]
  },
  {
   "cell_type": "code",
   "execution_count": 8,
   "metadata": {},
   "outputs": [
    {
     "data": {
      "application/vnd.jupyter.widget-view+json": {
       "model_id": "4a063e9d3d5a4437ab0e4400f63077bb",
       "version_major": 2,
       "version_minor": 0
      },
      "text/plain": [
       "interactive(children=(Dropdown(description='Velg visning:', options=('Linjediagram', 'Søylediagram', 'Scatterp…"
      ]
     },
     "metadata": {},
     "output_type": "display_data"
    },
    {
     "data": {
      "text/plain": [
       "<function __main__.vis_plot(valg)>"
      ]
     },
     "execution_count": 8,
     "metadata": {},
     "output_type": "execute_result"
    }
   ],
   "source": [
    "import pandas as pd\n",
    "import numpy as np\n",
    "import os\n",
    "import glob\n",
    "import matplotlib.pyplot as plt\n",
    "import seaborn as sns\n",
    "from sklearn.linear_model import LinearRegression\n",
    "import ipywidgets as widgets\n",
    "from IPython.display import display\n",
    "\n",
    "# Leser inn referansedata for 2004\n",
    "referanse_2004 = pd.read_csv(\"../data/csv_albedo_effekt/Albedo effekt 2004.csv\")\n",
    "feilmargin = pd.read_csv(\"../data/csv_albedo_effekt/data_m-lavfeilmargin.csv\")\n",
    "\n",
    "# Filtrerer ut punkter med høy albedo og lav feilmargin (AL-BB-DH > 0.3)\n",
    "felles_2004 = pd.merge(referanse_2004, feilmargin, on=[\"lat\", \"lon\"], how=\"inner\")\n",
    "referanse_punkter = felles_2004[felles_2004[\"AL-BB-DH\"] > 0.3][[\"lat\", \"lon\"]]\n",
    "\n",
    "# Leser inn alle årlige datafiler og sorterer dem etter årstall\n",
    "datafiler = sorted(glob.glob(\"../data/csv_albedo_effekt/Albedo*.csv\"))\n",
    "\n",
    "# Lister for lagring av statistikk\n",
    "årstall_liste = []\n",
    "gjennomsnitt_liste = []\n",
    "\n",
    "# Går gjennom hvert år og beregner gjennomsnitt for faste punkter\n",
    "for fil in datafiler:\n",
    "    df = pd.read_csv(fil)\n",
    "    felles = pd.merge(referanse_punkter, df, on=[\"lat\", \"lon\"], how=\"inner\")\n",
    "\n",
    "    if not felles.empty and \"AL-BB-DH\" in felles.columns:\n",
    "        gjennomsnitt = felles[\"AL-BB-DH\"].mean()\n",
    "    else:\n",
    "        gjennomsnitt = np.nan\n",
    "\n",
    "    år = int(''.join(filter(str.isdigit, os.path.basename(fil))))\n",
    "    årstall_liste.append(år)\n",
    "    gjennomsnitt_liste.append(gjennomsnitt)\n",
    "\n",
    "# Oppretter en DataFrame med årlig gjennomsnitt\n",
    "stats = pd.DataFrame({\"År\": årstall_liste, \"Gjennomsnittlig albedo\": gjennomsnitt_liste}).dropna()\n",
    "\n",
    "# Bygger lineær regresjonsmodell for prediksjon\n",
    "X = stats[[\"År\"]]\n",
    "y = stats[\"Gjennomsnittlig albedo\"]\n",
    "\n",
    "model = LinearRegression()\n",
    "model.fit(X, y)\n",
    "\n",
    "# Lager fremtidig prediksjon for 5 år\n",
    "framtid = pd.DataFrame({\"År\": np.arange(stats[\"År\"].max() + 1, stats[\"År\"].max() + 6)})\n",
    "framtid[\"Predikert\"] = model.predict(framtid)\n",
    "\n",
    "# Visualiserer som linjediagram med trendlinje og prediksjon\n",
    "def vis_linje():\n",
    "    plt.figure(figsize=(10, 5))\n",
    "    sns.lineplot(data=stats, x=\"År\", y=\"Gjennomsnittlig albedo\", marker=\"o\", label=\"Historisk\")\n",
    "    sns.lineplot(data=framtid, x=\"År\", y=\"Predikert\", marker=\"o\", linestyle=\"--\", color=\"orange\", label=\"Predikert\")\n",
    "    sns.regplot(data=stats, x=\"År\", y=\"Gjennomsnittlig albedo\", scatter=False, color=\"gray\", ci=None, label=\"Trend\")\n",
    "    plt.title(\"Linjediagram: Gjennomsnittlig albedo med trendlinje og prediksjon\")\n",
    "    plt.grid(True, linestyle=\"--\", alpha=0.5)\n",
    "    plt.legend()\n",
    "    plt.tight_layout()\n",
    "    plt.show()\n",
    "\n",
    "# Visualiserer som søylediagram med fremtidsverdier og trend\n",
    "def vis_soyle():\n",
    "    plt.figure(figsize=(10, 5))\n",
    "    plt.bar(stats[\"År\"], stats[\"Gjennomsnittlig albedo\"], color=\"skyblue\", label=\"Historisk\")\n",
    "    plt.bar(framtid[\"År\"], framtid[\"Predikert\"], color=\"orange\", alpha=0.6, label=\"Predikert\")\n",
    "    sns.regplot(data=stats, x=\"År\", y=\"Gjennomsnittlig albedo\", scatter=False, color=\"black\", ci=None, label=\"Trend\", line_kws={\"linestyle\": \"--\"})\n",
    "    plt.title(\"Søylediagram: Gjennomsnittlig albedo med trend og prediksjon\")\n",
    "    plt.xlabel(\"År\")\n",
    "    plt.ylabel(\"Albedo\")\n",
    "    plt.grid(True, linestyle=\"--\", alpha=0.5)\n",
    "    plt.legend()\n",
    "    plt.tight_layout()\n",
    "    plt.show()\n",
    "\n",
    "# Visualiserer som scatterplot med fremtid og trend\n",
    "def vis_spredning():\n",
    "    plt.figure(figsize=(10, 5))\n",
    "    sns.scatterplot(data=stats, x=\"År\", y=\"Gjennomsnittlig albedo\", s=80, label=\"Historisk\")\n",
    "    sns.scatterplot(data=framtid, x=\"År\", y=\"Predikert\", s=80, color=\"orange\", label=\"Predikert\")\n",
    "    sns.regplot(data=stats, x=\"År\", y=\"Gjennomsnittlig albedo\", scatter=False, color=\"gray\", ci=None, label=\"Trend\")\n",
    "    plt.title(\"Scatterplot: Historiske punkter og prediksjon med trendlinje\")\n",
    "    plt.grid(True, linestyle=\"--\", alpha=0.5)\n",
    "    plt.legend()\n",
    "    plt.tight_layout()\n",
    "    plt.show()\n",
    "\n",
    "# Interaktiv meny med tre valg for visualisering\n",
    "def vis_plot(valg):\n",
    "    if valg == \"Linjediagram\":\n",
    "        vis_linje()\n",
    "    elif valg == \"Søylediagram\":\n",
    "        vis_soyle()\n",
    "    elif valg == \"Scatterplot\":\n",
    "        vis_spredning()\n",
    "\n",
    "meny = widgets.Dropdown(\n",
    "    options=[\"Linjediagram\", \"Søylediagram\", \"Scatterplot\"],\n",
    "    value=\"Linjediagram\",\n",
    "    description=\"Velg visning:\"\n",
    ")\n",
    "\n",
    "widgets.interact(vis_plot, valg=meny)\n"
   ]
  }
 ],
 "metadata": {
  "kernelspec": {
   "display_name": "venv",
   "language": "python",
   "name": "python3"
  },
  "language_info": {
   "codemirror_mode": {
    "name": "ipython",
    "version": 3
   },
   "file_extension": ".py",
   "mimetype": "text/x-python",
   "name": "python",
   "nbconvert_exporter": "python",
   "pygments_lexer": "ipython3",
   "version": "3.13.1"
  }
 },
 "nbformat": 4,
 "nbformat_minor": 2
}
