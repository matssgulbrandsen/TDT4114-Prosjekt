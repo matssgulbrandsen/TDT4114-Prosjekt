{
 "cells": [
  {
   "cell_type": "markdown",
   "metadata": {},
   "source": [
    "### Oppgave 4) Dataanalyse"
   ]
  },
  {
   "cell_type": "markdown",
   "metadata": {},
   "source": [
    "I denne analysen beregnes tre statistiske mål for temperaturen hvert år i datasettet:\n",
    "\n",
    "- **Gjennomsnitt (mean):** Gjennomsnittstemperaturen for alle målinger i et gitt år. Dette gir en verdi på det generelle temperaturnivået for hvert år.\n",
    "- **Median:** Verdien som deler temperaturmålingene i to like store grupper. Halvparten av målingene er lavere enn medianen, og halvparten er høyere. Medianen er mindre påvirket av ekstreme verdier (outliers) enn gjennomsnittet.\n",
    "- **Standardavvik:** Et mål på hvordan temperaturmålingene i løpet av et år varierer fra gjennomsnittet. Et høyt standardavvik betyr at det har vært store temperaturvariasjoner det året, mens et lavt standardavvik betyr at temperaturene har vært jevnere.\n",
    "\n",
    "**Nytten av å beregne disse statistiske målene:**\n",
    "\n",
    "- De gir oss mulighet til å sammenligne år mot år og identifisere trender eller endringer i klimaet over tid.\n",
    "- Gjennomsnittet viser den generelle utviklingen, mens medianen på den andre siden viser utviklingen når man ser bort ifra enkelttilfeller hvor det har vært ekstreme verdier som trekker veldig opp eller ned på gjennomsnittet.\n",
    "- Standardavviket hjelper oss å forstå hvor stabile eller varierende temperaturene har vært i de ulike årene.\n",
    "- Ved å undersøke disse målene kan vi lettere oppdage eventuelle unormale år, identifisere mulige målefeil, og få en bedre forståelse av de klimatiske forholdene i datasettet.\n",
    "\n",
    "Koden under utfører denne statistiske analysen og gir en oversiktlig tabell med gjennomsnitt, median og standardavvik for hvert år i datasettet.\n"
   ]
  },
  {
   "cell_type": "code",
   "execution_count": 1,
   "metadata": {},
   "outputs": [
    {
     "name": "stdout",
     "output_type": "stream",
     "text": [
      "    year  gjennomsnitt  median  stdavvik\n",
      "0   1950      3.642528  3.5480  9.342967\n",
      "1   1951      3.329530  3.2480  8.950919\n",
      "2   1952      2.414126  2.7980  8.662530\n",
      "3   1953      5.134980  4.8980  8.609882\n",
      "4   1954      3.345266  3.1480  9.200182\n",
      "..   ...           ...     ...       ...\n",
      "70  2020      7.118090  5.8685  6.443153\n",
      "71  2021      5.749670  5.9185  8.471661\n",
      "72  2022      6.375646  6.4685  6.778777\n",
      "73  2023      5.913157  5.1685  7.766205\n",
      "74  2024      7.337830  6.9685  7.337631\n",
      "\n",
      "[75 rows x 4 columns]\n",
      "count    657456.000000\n",
      "mean          4.313683\n",
      "std           8.562018\n",
      "min         -32.202000\n",
      "25%          -0.952000\n",
      "50%           4.248000\n",
      "75%          10.598000\n",
      "max          31.618500\n",
      "Name: temperature_2m, dtype: float64\n"
     ]
    }
   ],
   "source": [
    "import sys\n",
    "sys.path.append('../src')\n",
    "\n",
    "from temperaturdata import dataanalyse\n",
    "\n",
    "print(dataanalyse.statistikk_per_aar())\n",
    "print(dataanalyse.beskriv_data())\n",
    "# Hvis du vil se renset data (valgfritt):\n",
    "# print(databehandling.fjern_ekstreme_verdier())\n"
   ]
  },
  {
   "cell_type": "code",
   "execution_count": 1,
   "metadata": {},
   "outputs": [
    {
     "name": "stdout",
     "output_type": "stream",
     "text": [
      "Pearson korrelasjon mellom år og temperatur: r = 0.1063, p-verdi = 0.0000\n"
     ]
    },
    {
     "data": {
      "text/plain": [
       "(np.float64(0.10629839453741174), np.float64(0.0))"
      ]
     },
     "execution_count": 1,
     "metadata": {},
     "output_type": "execute_result"
    }
   ],
   "source": [
    "import sys\n",
    "sys.path.append('../src')\n",
    "\n",
    "from temperaturdata.dataanalyse import pearson_korrelasjon\n",
    "pearson_korrelasjon()"
   ]
  },
  {
   "cell_type": "markdown",
   "metadata": {},
   "source": [
    "### Forklaring av korrelasjonsresultat\n",
    "\n",
    "Korrelasjonsanalysen mellom år og temperatur gir følgende resultat:\n",
    "\n",
    "- **Pearson korrelasjonskoeffisient (r): 0.1063**\n",
    "- **p-verdi: 0.0000**\n",
    "\n",
    "Dette betyr at det finnes en svak, men klar, positiv sammenheng mellom år og temperatur i datasettet. En r-verdi på 0.1063 forteller at temperaturen øker sakte, men sikkert over tid, og at denne økningen er relativt svak sammenlignet med den totale variasjonen i temperaturmålingene.\n",
    "\n",
    "Den svært lave p-verdien (< 0.05) viser at sammenhengen er statistisk signifikant. Det vil si at det er svært lav sannsynlighet for at denne sammenhengen har oppstått ved en tilfeldighet.\n",
    "\n"
   ]
  }
 ],
 "metadata": {
  "kernelspec": {
   "display_name": "venv",
   "language": "python",
   "name": "python3"
  },
  "language_info": {
   "codemirror_mode": {
    "name": "ipython",
    "version": 3
   },
   "file_extension": ".py",
   "mimetype": "text/x-python",
   "name": "python",
   "nbconvert_exporter": "python",
   "pygments_lexer": "ipython3",
   "version": "3.11.9"
  }
 },
 "nbformat": 4,
 "nbformat_minor": 2
}
