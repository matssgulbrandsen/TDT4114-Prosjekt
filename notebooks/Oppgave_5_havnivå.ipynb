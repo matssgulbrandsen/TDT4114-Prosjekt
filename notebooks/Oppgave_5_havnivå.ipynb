{
 "cells": [
  {
   "cell_type": "markdown",
   "metadata": {},
   "source": [
    "### Program for analyse og visualisering av havnivåstigning"
   ]
  },
  {
   "cell_type": "markdown",
   "metadata": {},
   "source": [
    "Denne koden analyserer og visualiserer endringer i havnivå fra 1992 til 2025. Den henter sanntidsdata fra NASA. Brukeren kan enkelt regulerer øvre og nedre grense slik at usannsynelige verdier blir filtrert bort. Deretter fyller koden inn manglende data ved bruk av interpolasjon. Brukeren kan velge mellom ulike visualiseringer via en interaktiv meny laget med widgets. Visualiseringene inkluderer linjediagram, punktdiagram, regresjonsanalyse, glidende gjennomsnitt, boksplott og en interaktiv graf laget med Plotly. Koden viser også hvor sterk sammenheng det er mellom år og havnivå ved hjelp av Pearson-korrelasjon. Alle grafer er tydelig merket med akser og titler for å gjøre informasjonen lett å forstå."
   ]
  },
  {
   "cell_type": "code",
   "execution_count": null,
   "metadata": {},
   "outputs": [
    {
     "data": {
      "application/vnd.jupyter.widget-view+json": {
       "model_id": "c57d20053cad429b9168bea57c0e1646",
       "version_major": 2,
       "version_minor": 0
      },
      "text/plain": [
       "Dropdown(description='Velg analyse:', index=5, layout=Layout(width='70%'), options=(('📈 Linjediagram: Gjennoms…"
      ]
     },
     "metadata": {},
     "output_type": "display_data"
    },
    {
     "data": {
      "application/vnd.jupyter.widget-view+json": {
       "model_id": "fb744f930afd482cbcf4950564462ae0",
       "version_major": 2,
       "version_minor": 0
      },
      "text/plain": [
       "Button(description='Vis graf', style=ButtonStyle())"
      ]
     },
     "metadata": {},
     "output_type": "display_data"
    },
    {
     "data": {
      "application/vnd.jupyter.widget-view+json": {
       "model_id": "f4ff084be3de4ebabdb472cb630410ef",
       "version_major": 2,
       "version_minor": 0
      },
      "text/plain": [
       "Output()"
      ]
     },
     "metadata": {},
     "output_type": "display_data"
    },
    {
     "data": {
      "application/vnd.plotly.v1+json": {
       "config": {
        "plotlyServerURL": "https://plot.ly"
       },
       "data": [
        {
         "hovertemplate": "År=%{x}<br>Havnivå (mm)=%{y}<extra></extra>",
         "legendgroup": "",
         "line": {
          "color": "#636efa",
          "dash": "solid"
         },
         "marker": {
          "symbol": "circle"
         },
         "mode": "lines",
         "name": "",
         "orientation": "v",
         "showlegend": false,
         "type": "scatter",
         "x": {
          "bdata": "yAcAAMkHAADKBwAAywcAAMwHAADNBwAAzgcAAM8HAADQBwAA0QcAANIHAADTBwAA1AcAANUHAADWBwAA1wcAANgHAADZBwAA2gcAANsHAADcBwAA3QcAAN4HAADfBwAA4AcAAOEHAADiBwAA4wcAAOQHAADlBwAA5gcAAOcHAADoBwAA",
          "dtype": "i4"
         },
         "xaxis": "x",
         "y": {
          "bdata": "I95Q89wqF8BBB3i64QMvwJVAp3SUJCbABzZtrKnLF8AdvxMd6icTwGO1T1aR2wDAJCVrDQXrBsDbAi8zaIzWvwyp7rjd/BJAtY8/lnHcI0B7sqCp0/QjQIFUCiu1wChAhwHDYqhsK0A4li5hXnoxQNW/8gkE8TJAV2AnfjLNM0CIWVCWovA3QLc9VsuPFDxAAChRtogAPkBFnD6bZf48QF7p1nKgYENAzXJpAuu1REB/b5xky9lFQK8tUZQCHEpAV2LjbS54S0Ax49suyJJLQO8v3NXBuExAxWaZRRnhT0CBjvivOItQQB1Cz9yHkFFA6+qD4AMxUkAdRfSSKnxTQDB63vUY2FRA",
          "dtype": "f8"
         },
         "yaxis": "y"
        }
       ],
       "layout": {
        "hovermode": "x unified",
        "legend": {
         "tracegroupgap": 0
        },
        "template": {
         "data": {
          "bar": [
           {
            "error_x": {
             "color": "#2a3f5f"
            },
            "error_y": {
             "color": "#2a3f5f"
            },
            "marker": {
             "line": {
              "color": "#E5ECF6",
              "width": 0.5
             },
             "pattern": {
              "fillmode": "overlay",
              "size": 10,
              "solidity": 0.2
             }
            },
            "type": "bar"
           }
          ],
          "barpolar": [
           {
            "marker": {
             "line": {
              "color": "#E5ECF6",
              "width": 0.5
             },
             "pattern": {
              "fillmode": "overlay",
              "size": 10,
              "solidity": 0.2
             }
            },
            "type": "barpolar"
           }
          ],
          "carpet": [
           {
            "aaxis": {
             "endlinecolor": "#2a3f5f",
             "gridcolor": "white",
             "linecolor": "white",
             "minorgridcolor": "white",
             "startlinecolor": "#2a3f5f"
            },
            "baxis": {
             "endlinecolor": "#2a3f5f",
             "gridcolor": "white",
             "linecolor": "white",
             "minorgridcolor": "white",
             "startlinecolor": "#2a3f5f"
            },
            "type": "carpet"
           }
          ],
          "choropleth": [
           {
            "colorbar": {
             "outlinewidth": 0,
             "ticks": ""
            },
            "type": "choropleth"
           }
          ],
          "contour": [
           {
            "colorbar": {
             "outlinewidth": 0,
             "ticks": ""
            },
            "colorscale": [
             [
              0,
              "#0d0887"
             ],
             [
              0.1111111111111111,
              "#46039f"
             ],
             [
              0.2222222222222222,
              "#7201a8"
             ],
             [
              0.3333333333333333,
              "#9c179e"
             ],
             [
              0.4444444444444444,
              "#bd3786"
             ],
             [
              0.5555555555555556,
              "#d8576b"
             ],
             [
              0.6666666666666666,
              "#ed7953"
             ],
             [
              0.7777777777777778,
              "#fb9f3a"
             ],
             [
              0.8888888888888888,
              "#fdca26"
             ],
             [
              1,
              "#f0f921"
             ]
            ],
            "type": "contour"
           }
          ],
          "contourcarpet": [
           {
            "colorbar": {
             "outlinewidth": 0,
             "ticks": ""
            },
            "type": "contourcarpet"
           }
          ],
          "heatmap": [
           {
            "colorbar": {
             "outlinewidth": 0,
             "ticks": ""
            },
            "colorscale": [
             [
              0,
              "#0d0887"
             ],
             [
              0.1111111111111111,
              "#46039f"
             ],
             [
              0.2222222222222222,
              "#7201a8"
             ],
             [
              0.3333333333333333,
              "#9c179e"
             ],
             [
              0.4444444444444444,
              "#bd3786"
             ],
             [
              0.5555555555555556,
              "#d8576b"
             ],
             [
              0.6666666666666666,
              "#ed7953"
             ],
             [
              0.7777777777777778,
              "#fb9f3a"
             ],
             [
              0.8888888888888888,
              "#fdca26"
             ],
             [
              1,
              "#f0f921"
             ]
            ],
            "type": "heatmap"
           }
          ],
          "histogram": [
           {
            "marker": {
             "pattern": {
              "fillmode": "overlay",
              "size": 10,
              "solidity": 0.2
             }
            },
            "type": "histogram"
           }
          ],
          "histogram2d": [
           {
            "colorbar": {
             "outlinewidth": 0,
             "ticks": ""
            },
            "colorscale": [
             [
              0,
              "#0d0887"
             ],
             [
              0.1111111111111111,
              "#46039f"
             ],
             [
              0.2222222222222222,
              "#7201a8"
             ],
             [
              0.3333333333333333,
              "#9c179e"
             ],
             [
              0.4444444444444444,
              "#bd3786"
             ],
             [
              0.5555555555555556,
              "#d8576b"
             ],
             [
              0.6666666666666666,
              "#ed7953"
             ],
             [
              0.7777777777777778,
              "#fb9f3a"
             ],
             [
              0.8888888888888888,
              "#fdca26"
             ],
             [
              1,
              "#f0f921"
             ]
            ],
            "type": "histogram2d"
           }
          ],
          "histogram2dcontour": [
           {
            "colorbar": {
             "outlinewidth": 0,
             "ticks": ""
            },
            "colorscale": [
             [
              0,
              "#0d0887"
             ],
             [
              0.1111111111111111,
              "#46039f"
             ],
             [
              0.2222222222222222,
              "#7201a8"
             ],
             [
              0.3333333333333333,
              "#9c179e"
             ],
             [
              0.4444444444444444,
              "#bd3786"
             ],
             [
              0.5555555555555556,
              "#d8576b"
             ],
             [
              0.6666666666666666,
              "#ed7953"
             ],
             [
              0.7777777777777778,
              "#fb9f3a"
             ],
             [
              0.8888888888888888,
              "#fdca26"
             ],
             [
              1,
              "#f0f921"
             ]
            ],
            "type": "histogram2dcontour"
           }
          ],
          "mesh3d": [
           {
            "colorbar": {
             "outlinewidth": 0,
             "ticks": ""
            },
            "type": "mesh3d"
           }
          ],
          "parcoords": [
           {
            "line": {
             "colorbar": {
              "outlinewidth": 0,
              "ticks": ""
             }
            },
            "type": "parcoords"
           }
          ],
          "pie": [
           {
            "automargin": true,
            "type": "pie"
           }
          ],
          "scatter": [
           {
            "fillpattern": {
             "fillmode": "overlay",
             "size": 10,
             "solidity": 0.2
            },
            "type": "scatter"
           }
          ],
          "scatter3d": [
           {
            "line": {
             "colorbar": {
              "outlinewidth": 0,
              "ticks": ""
             }
            },
            "marker": {
             "colorbar": {
              "outlinewidth": 0,
              "ticks": ""
             }
            },
            "type": "scatter3d"
           }
          ],
          "scattercarpet": [
           {
            "marker": {
             "colorbar": {
              "outlinewidth": 0,
              "ticks": ""
             }
            },
            "type": "scattercarpet"
           }
          ],
          "scattergeo": [
           {
            "marker": {
             "colorbar": {
              "outlinewidth": 0,
              "ticks": ""
             }
            },
            "type": "scattergeo"
           }
          ],
          "scattergl": [
           {
            "marker": {
             "colorbar": {
              "outlinewidth": 0,
              "ticks": ""
             }
            },
            "type": "scattergl"
           }
          ],
          "scattermap": [
           {
            "marker": {
             "colorbar": {
              "outlinewidth": 0,
              "ticks": ""
             }
            },
            "type": "scattermap"
           }
          ],
          "scattermapbox": [
           {
            "marker": {
             "colorbar": {
              "outlinewidth": 0,
              "ticks": ""
             }
            },
            "type": "scattermapbox"
           }
          ],
          "scatterpolar": [
           {
            "marker": {
             "colorbar": {
              "outlinewidth": 0,
              "ticks": ""
             }
            },
            "type": "scatterpolar"
           }
          ],
          "scatterpolargl": [
           {
            "marker": {
             "colorbar": {
              "outlinewidth": 0,
              "ticks": ""
             }
            },
            "type": "scatterpolargl"
           }
          ],
          "scatterternary": [
           {
            "marker": {
             "colorbar": {
              "outlinewidth": 0,
              "ticks": ""
             }
            },
            "type": "scatterternary"
           }
          ],
          "surface": [
           {
            "colorbar": {
             "outlinewidth": 0,
             "ticks": ""
            },
            "colorscale": [
             [
              0,
              "#0d0887"
             ],
             [
              0.1111111111111111,
              "#46039f"
             ],
             [
              0.2222222222222222,
              "#7201a8"
             ],
             [
              0.3333333333333333,
              "#9c179e"
             ],
             [
              0.4444444444444444,
              "#bd3786"
             ],
             [
              0.5555555555555556,
              "#d8576b"
             ],
             [
              0.6666666666666666,
              "#ed7953"
             ],
             [
              0.7777777777777778,
              "#fb9f3a"
             ],
             [
              0.8888888888888888,
              "#fdca26"
             ],
             [
              1,
              "#f0f921"
             ]
            ],
            "type": "surface"
           }
          ],
          "table": [
           {
            "cells": {
             "fill": {
              "color": "#EBF0F8"
             },
             "line": {
              "color": "white"
             }
            },
            "header": {
             "fill": {
              "color": "#C8D4E3"
             },
             "line": {
              "color": "white"
             }
            },
            "type": "table"
           }
          ]
         },
         "layout": {
          "annotationdefaults": {
           "arrowcolor": "#2a3f5f",
           "arrowhead": 0,
           "arrowwidth": 1
          },
          "autotypenumbers": "strict",
          "coloraxis": {
           "colorbar": {
            "outlinewidth": 0,
            "ticks": ""
           }
          },
          "colorscale": {
           "diverging": [
            [
             0,
             "#8e0152"
            ],
            [
             0.1,
             "#c51b7d"
            ],
            [
             0.2,
             "#de77ae"
            ],
            [
             0.3,
             "#f1b6da"
            ],
            [
             0.4,
             "#fde0ef"
            ],
            [
             0.5,
             "#f7f7f7"
            ],
            [
             0.6,
             "#e6f5d0"
            ],
            [
             0.7,
             "#b8e186"
            ],
            [
             0.8,
             "#7fbc41"
            ],
            [
             0.9,
             "#4d9221"
            ],
            [
             1,
             "#276419"
            ]
           ],
           "sequential": [
            [
             0,
             "#0d0887"
            ],
            [
             0.1111111111111111,
             "#46039f"
            ],
            [
             0.2222222222222222,
             "#7201a8"
            ],
            [
             0.3333333333333333,
             "#9c179e"
            ],
            [
             0.4444444444444444,
             "#bd3786"
            ],
            [
             0.5555555555555556,
             "#d8576b"
            ],
            [
             0.6666666666666666,
             "#ed7953"
            ],
            [
             0.7777777777777778,
             "#fb9f3a"
            ],
            [
             0.8888888888888888,
             "#fdca26"
            ],
            [
             1,
             "#f0f921"
            ]
           ],
           "sequentialminus": [
            [
             0,
             "#0d0887"
            ],
            [
             0.1111111111111111,
             "#46039f"
            ],
            [
             0.2222222222222222,
             "#7201a8"
            ],
            [
             0.3333333333333333,
             "#9c179e"
            ],
            [
             0.4444444444444444,
             "#bd3786"
            ],
            [
             0.5555555555555556,
             "#d8576b"
            ],
            [
             0.6666666666666666,
             "#ed7953"
            ],
            [
             0.7777777777777778,
             "#fb9f3a"
            ],
            [
             0.8888888888888888,
             "#fdca26"
            ],
            [
             1,
             "#f0f921"
            ]
           ]
          },
          "colorway": [
           "#636efa",
           "#EF553B",
           "#00cc96",
           "#ab63fa",
           "#FFA15A",
           "#19d3f3",
           "#FF6692",
           "#B6E880",
           "#FF97FF",
           "#FECB52"
          ],
          "font": {
           "color": "#2a3f5f"
          },
          "geo": {
           "bgcolor": "white",
           "lakecolor": "white",
           "landcolor": "#E5ECF6",
           "showlakes": true,
           "showland": true,
           "subunitcolor": "white"
          },
          "hoverlabel": {
           "align": "left"
          },
          "hovermode": "closest",
          "mapbox": {
           "style": "light"
          },
          "paper_bgcolor": "white",
          "plot_bgcolor": "#E5ECF6",
          "polar": {
           "angularaxis": {
            "gridcolor": "white",
            "linecolor": "white",
            "ticks": ""
           },
           "bgcolor": "#E5ECF6",
           "radialaxis": {
            "gridcolor": "white",
            "linecolor": "white",
            "ticks": ""
           }
          },
          "scene": {
           "xaxis": {
            "backgroundcolor": "#E5ECF6",
            "gridcolor": "white",
            "gridwidth": 2,
            "linecolor": "white",
            "showbackground": true,
            "ticks": "",
            "zerolinecolor": "white"
           },
           "yaxis": {
            "backgroundcolor": "#E5ECF6",
            "gridcolor": "white",
            "gridwidth": 2,
            "linecolor": "white",
            "showbackground": true,
            "ticks": "",
            "zerolinecolor": "white"
           },
           "zaxis": {
            "backgroundcolor": "#E5ECF6",
            "gridcolor": "white",
            "gridwidth": 2,
            "linecolor": "white",
            "showbackground": true,
            "ticks": "",
            "zerolinecolor": "white"
           }
          },
          "shapedefaults": {
           "line": {
            "color": "#2a3f5f"
           }
          },
          "ternary": {
           "aaxis": {
            "gridcolor": "white",
            "linecolor": "white",
            "ticks": ""
           },
           "baxis": {
            "gridcolor": "white",
            "linecolor": "white",
            "ticks": ""
           },
           "bgcolor": "#E5ECF6",
           "caxis": {
            "gridcolor": "white",
            "linecolor": "white",
            "ticks": ""
           }
          },
          "title": {
           "x": 0.05
          },
          "xaxis": {
           "automargin": true,
           "gridcolor": "white",
           "linecolor": "white",
           "ticks": "",
           "title": {
            "standoff": 15
           },
           "zerolinecolor": "white",
           "zerolinewidth": 2
          },
          "yaxis": {
           "automargin": true,
           "gridcolor": "white",
           "linecolor": "white",
           "ticks": "",
           "title": {
            "standoff": 15
           },
           "zerolinecolor": "white",
           "zerolinewidth": 2
          }
         }
        },
        "title": {
         "text": "Interaktiv visning: Gjennomsnittlig økning i havnivå (1992–2025)"
        },
        "xaxis": {
         "anchor": "y",
         "domain": [
          0,
          1
         ],
         "title": {
          "text": "År"
         }
        },
        "yaxis": {
         "anchor": "x",
         "domain": [
          0,
          1
         ],
         "title": {
          "text": "Havnivå (mm)"
         }
        }
       }
      }
     },
     "metadata": {},
     "output_type": "display_data"
    }
   ],
   "source": [
    "import numpy as np \n",
    "import pandas as pd\n",
    "import requests\n",
    "from datetime import datetime\n",
    "import matplotlib.pyplot as plt\n",
    "import seaborn as sns\n",
    "import plotly.express as px\n",
    "import plotly.io as pio\n",
    "import ipywidgets as widgets\n",
    "from IPython.display import display, clear_output\n",
    "\n",
    "# For å bruke Plotly \n",
    "pio.renderers.default = \"vscode\"\n",
    "\n",
    "# Henting av data\n",
    "response = requests.get(\n",
    "    \"https://sealevel-nexus.jpl.nasa.gov/timeSeriesSpark\",\n",
    "    params={\n",
    "        \"ds\": \"NASA_SSH_REF_SIMPLE_GRID_V1_Monthly\",\n",
    "        \"b\": \"-180.0,-90.0,180.0,90.0\",\n",
    "        \"startTime\": \"1992-01-01T00:00:00Z\",\n",
    "        \"endTime\": \"2025-01-01T00:00:00Z\",\n",
    "        \"output\": \"JSON\"\n",
    "    }\n",
    ")\n",
    "\n",
    "# Konverter JSON til DataFrame\n",
    "if response.ok and \"data\" in response.json():\n",
    "    raw_data = [item for sublist in response.json()[\"data\"] for item in sublist]\n",
    "    df = pd.DataFrame(raw_data)\n",
    "else:\n",
    "    raise ValueError(\"Feil ved henting av data.\")\n",
    "\n",
    "# Lag en ny DataFrame med tidsstempel\n",
    "df[\"iso_time\"] = pd.to_datetime(df[\"iso_time\"])\n",
    "df[\"år\"] = df[\"iso_time\"].dt.year\n",
    "df[\"måned\"] = df[\"iso_time\"].dt.to_period(\"M\")\n",
    "df[\"mean_mm\"] = df[\"mean\"] * 1000\n",
    "df[\"min_mm\"] = df[\"min\"] * 1000\n",
    "df[\"max_mm\"] = df[\"max\"] * 1000\n",
    "\n",
    "# Rensing og utfylling av manglende punkter\n",
    "grenser = {\n",
    "    \"mean\": (-1, 1),\n",
    "    \"min\": (-1, 1),\n",
    "    \"max\": (-1, 1)\n",
    "}\n",
    "\n",
    "ugyldig = pd.Series(False, index=df.index)\n",
    "for kolonne, (min_grense, max_grense) in grenser.items():\n",
    "    ugyldig |= ~df[kolonne].between(min_grense, max_grense)\n",
    "\n",
    "antall_rensede = ugyldig.sum()\n",
    "\n",
    "df.loc[ugyldig, [\"mean_mm\", \"min_mm\", \"max_mm\"]] = np.nan\n",
    "df[[\"mean_mm\", \"min_mm\", \"max_mm\"]] = df[[\"mean_mm\", \"min_mm\", \"max_mm\"]].interpolate(method=\"linear\")\n",
    "df_renset = df.copy()\n",
    "\n",
    "output_tekst = widgets.Output()\n",
    "\n",
    "# Visningsfunksjoner\n",
    "def vis_linjediagram():\n",
    "    plt.figure(figsize=(12, 5))\n",
    "    sns.lineplot(data=df_renset, x=\"iso_time\", y=\"mean_mm\", color=\"blue\")\n",
    "    plt.title(\"Gjennomsnittlig økning i havnivå fra 1992 til 2025 (mm)\")\n",
    "    plt.xlabel(\"Tid\")\n",
    "    plt.ylabel(\"Havnivå (mm)\")\n",
    "    plt.grid(True)\n",
    "    plt.tight_layout()\n",
    "    plt.show()\n",
    "\n",
    "def vis_punktdiagram():\n",
    "    df_mnd = df_renset[[\"måned\", \"mean_mm\"]].dropna()\n",
    "    df_mnd[\"dato\"] = df_mnd[\"måned\"].dt.to_timestamp()\n",
    "    plt.figure(figsize=(12, 5))\n",
    "    plt.scatter(df_mnd[\"dato\"], df_mnd[\"mean_mm\"], color=\"green\", alpha=0.7, s=10)\n",
    "    plt.xlabel(\"År\")\n",
    "    plt.ylabel(\"Havnivå (mm)\")\n",
    "    plt.title(\"Månedlig havnivåøkning fra 1992 til 2025 (punktvis)\")\n",
    "    plt.grid(True)\n",
    "    plt.tight_layout()\n",
    "    plt.show()\n",
    "\n",
    "def vis_regresjon():\n",
    "    df_mnd = df_renset[[\"måned\", \"mean_mm\", \"min_mm\", \"max_mm\"]].dropna()\n",
    "    df_mnd[\"tid\"] = df_mnd[\"måned\"].dt.to_timestamp()\n",
    "    df_mnd[\"år\"] = df_mnd[\"tid\"].dt.year + df_mnd[\"tid\"].dt.month / 12\n",
    "\n",
    "    plt.figure(figsize=(14, 6))\n",
    "    sns.regplot(x=\"år\", y=\"mean_mm\", data=df_mnd, scatter=True, label=\"Gjennomsnitt\", color=\"blue\", scatter_kws={'s':10}, line_kws={'linewidth':2})\n",
    "    sns.regplot(x=\"år\", y=\"min_mm\", data=df_mnd, scatter=True, label=\"Minimum\", color=\"green\", scatter_kws={'s':10}, line_kws={'linewidth':2})\n",
    "    sns.regplot(x=\"år\", y=\"max_mm\", data=df_mnd, scatter=True, label=\"Maksimum\", color=\"red\", scatter_kws={'s':10}, line_kws={'linewidth':2})\n",
    "    plt.title(\"Regresjonsanalyse: Økning i havnivå (min, maks, gjennomsnitt)\")\n",
    "    plt.xlabel(\"År\")\n",
    "    plt.ylabel(\"Havnivå (mm)\")\n",
    "    plt.grid(True)\n",
    "    plt.legend()\n",
    "    plt.tight_layout()\n",
    "    plt.show()\n",
    "\n",
    "def vis_glidende_gjennomsnitt():\n",
    "    df_renset[\"glidende_mean\"] = df_renset[\"mean_mm\"].rolling(window=12, min_periods=1).mean()\n",
    "    plt.figure(figsize=(12, 5))\n",
    "    plt.plot(df_renset[\"iso_time\"], df_renset[\"mean_mm\"], label=\"Rådata\", alpha=0.3)\n",
    "    plt.plot(df_renset[\"iso_time\"], df_renset[\"glidende_mean\"], label=\"12 måneders glidende gjennomsnitt\", color=\"red\")\n",
    "    plt.xlabel(\"Tid\")\n",
    "    plt.ylabel(\"Havnivå (mm)\")\n",
    "    plt.title(\"Utvikling i havnivå fra 1992 til 2025: Glidende gjennomsnitt\")\n",
    "    plt.legend()\n",
    "    plt.grid(True)\n",
    "    plt.tight_layout()\n",
    "    plt.show()\n",
    "\n",
    "def vis_boksplott():\n",
    "    plt.figure(figsize=(15, 6))\n",
    "    df_renset.boxplot(column=\"mean_mm\", by=\"år\", grid=True, showfliers=False)\n",
    "    plt.title(\"Årlig fordeling av havnivåøkning (1992–2025)\")\n",
    "    plt.suptitle(\"\")\n",
    "    plt.xlabel(\"År\")\n",
    "    plt.xticks(rotation=45)\n",
    "    plt.ylabel(\"Havnivå (mm)\")\n",
    "    plt.tight_layout()\n",
    "    plt.show()\n",
    "\n",
    "def vis_interaktiv():\n",
    "    df_årlig = df_renset.groupby(\"år\")[\"mean_mm\"].mean().reset_index()\n",
    "    fig = px.line(\n",
    "        df_årlig,\n",
    "        x=\"år\",\n",
    "        y=\"mean_mm\",\n",
    "        title=\"Interaktiv visning: Gjennomsnittlig økning i havnivå (1992–2025)\",\n",
    "        labels={\"mean_mm\": \"Havnivå (mm)\", \"år\": \"År\"}\n",
    "    )\n",
    "    fig.update_layout(hovermode=\"x unified\")\n",
    "    fig.show()\n",
    "\n",
    "# Interaktiv meny\n",
    "def interaktiv_meny():\n",
    "    global valg_boks, knapp\n",
    "    valg_boks = widgets.Dropdown(\n",
    "        options=[\n",
    "            (\"📈 Linjediagram: Gjennomsnittlig økning i havnivå over tid (Seaborn)\", 1),\n",
    "            (\"🔹 Punktdiagram: Gjennomsnittlig utvikling i havnivå per måned\", 2),\n",
    "            (\"📉 Regresjonsanalyse: Min, maks og gjennomsnitt\", 3),\n",
    "            (\"📏 Glidende gjennomsnitt (12 måneder)\", 4),\n",
    "            (\"📦 Boksplott: Fordeling per år\", 5),\n",
    "            (\"🌍 Interaktiv graf med årlig gjennomsnitt av havnivåstigning fra 1992-2025 (Plotly)\", 6),\n",
    "        ],\n",
    "        description=\"Velg analyse:\",\n",
    "        style={\"description_width\": \"initial\"},\n",
    "        layout=widgets.Layout(width=\"70%\")\n",
    "    )\n",
    "\n",
    "    knapp = widgets.Button(description=\"Vis graf\")\n",
    "\n",
    "    def vis_valg(b):\n",
    "        clear_output(wait=True)\n",
    "        display(valg_boks, knapp, output_tekst)\n",
    "        valg = valg_boks.value\n",
    "        output_tekst.clear_output()\n",
    "        if valg == 1:\n",
    "            vis_linjediagram()\n",
    "        elif valg == 2:\n",
    "            vis_punktdiagram()\n",
    "        elif valg == 3:\n",
    "            vis_regresjon()\n",
    "        elif valg == 4:\n",
    "            vis_glidende_gjennomsnitt()\n",
    "        elif valg == 5:\n",
    "            vis_boksplott()\n",
    "        elif valg == 6:\n",
    "            vis_interaktiv()\n",
    "\n",
    "    knapp.on_click(vis_valg)\n",
    "    display(valg_boks, knapp, output_tekst)\n",
    "\n",
    "# Antall rensede eller manglende datapunkter som ble interpolert\n",
    "print(f\"🔍 Antall rensede eller manglende datapunkter som ble interpolert: {antall_rensede}\")\n",
    "\n",
    "# Start menyen\n",
    "interaktiv_meny()\n"
   ]
  }
 ],
 "metadata": {
  "kernelspec": {
   "display_name": "venv",
   "language": "python",
   "name": "python3"
  },
  "language_info": {
   "codemirror_mode": {
    "name": "ipython",
    "version": 3
   },
   "file_extension": ".py",
   "mimetype": "text/x-python",
   "name": "python",
   "nbconvert_exporter": "python",
   "pygments_lexer": "ipython3",
   "version": "3.13.1"
  }
 },
 "nbformat": 4,
 "nbformat_minor": 2
}
