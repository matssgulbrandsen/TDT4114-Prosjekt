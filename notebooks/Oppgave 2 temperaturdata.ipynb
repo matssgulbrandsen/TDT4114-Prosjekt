{
 "cells": [
  {
   "cell_type": "markdown",
   "metadata": {},
   "source": [
    "### Oppgave 2) Datainnsamling\n",
    "\n",
    "Dataen hentes ut gjennom en API fra OPEN-METEO.com, Koordinatene som er satt er for Trondheim, og dataen OPEN-METEO bruker for Norge kommer fra datasettet, \"MET NORDIC\", som er publisert av Norges Meterologiske Institutt. OPEN-METEO er open source, og tar seg ikke betalt for dataen, den er også veldig brukervennlig, og har en liste med alle \"keywords\" slik at man enkelt kan manøvrere gjennom de ulike dataene. Datasettet lastes ned til en CSV fil og lagres under \"data\" folderen\n"
   ]
  },
  {
   "cell_type": "code",
   "execution_count": 1,
   "metadata": {},
   "outputs": [
    {
     "name": "stdout",
     "output_type": "stream",
     "text": [
      "✅ Det er generert 2 datasett fra API-et.\n",
      "Datasett funnet:\n",
      "  - temperaturdata.csv\n",
      "  - temperaturdata_feilverdier.csv\n"
     ]
    }
   ],
   "source": [
    "import os\n",
    "\n",
    "# Definer sti til temperaturdata-mappa\n",
    "data_dir = os.path.abspath(os.path.join(os.getcwd(), '..', 'data', 'temperaturdata'))\n",
    "\n",
    "# List alle CSV-filer i mappen\n",
    "datasets = [f for f in os.listdir(data_dir) if f.endswith('.csv')]\n",
    "\n",
    "print(f\"✅ Det er generert {len(datasets)} datasett fra API-et.\")\n",
    "print(\"Datasett funnet:\")\n",
    "for ds in datasets:\n",
    "    print(f\"  - {ds}\")\n"
   ]
  },
  {
   "cell_type": "markdown",
   "metadata": {},
   "source": [
    "Datasett nummer 2, \" temperaturdata_feilverdier\" er generert fra den samme API, med samme keywords. Her er det manuelt plassert feilmålinger og tomme målinger, valideringen av listene i oppgave 3 skal testes på begge datasett slik at man ser at den faktisk finner feil"
   ]
  }
 ],
 "metadata": {
  "kernelspec": {
   "display_name": "venv",
   "language": "python",
   "name": "python3"
  },
  "language_info": {
   "codemirror_mode": {
    "name": "ipython",
    "version": 3
   },
   "file_extension": ".py",
   "mimetype": "text/x-python",
   "name": "python",
   "nbconvert_exporter": "python",
   "pygments_lexer": "ipython3",
   "version": "3.11.9"
  }
 },
 "nbformat": 4,
 "nbformat_minor": 2
}
