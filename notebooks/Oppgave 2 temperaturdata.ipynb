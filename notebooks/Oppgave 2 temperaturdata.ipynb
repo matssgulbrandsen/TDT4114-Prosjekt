{
 "cells": [
  {
   "cell_type": "markdown",
   "metadata": {},
   "source": [
    "### Oppgave 2) Datainnsamling\n",
    "\n",
    "I prosjektet er temperaturdata hentet via Open-Meteo API, med koordinater for Trondheim. API-et benytter data fra MET Norway (MET NORDIC), som har høy kvalitet og i tillegg en pålitelig datakilde. Python-modulene openmeteo_requests, requests_cache og Pandas brukes for å hente, strukturere og lagre dataen som CSV. Dette gjør koden robust mot nettverksfeil og sørger for en gjennomgående god datakvalitet. Dataen lagres etter dato, og timer. APIet er veldig enkel å bruke, open source og tilgjengelig for alle. Keywordet som brukes \"temperatur_2m\" betyr at det hentes temperaturmålinger 2 meter over bakken.\n"
   ]
  },
  {
   "cell_type": "markdown",
   "metadata": {},
   "source": [
    "Link til nettsiden: https://open-meteo.com/en/docs \n"
   ]
  },
  {
   "cell_type": "code",
   "execution_count": 2,
   "metadata": {},
   "outputs": [
    {
     "name": "stdout",
     "output_type": "stream",
     "text": [
      "✅ Det er generert 2 datasett fra API-et.\n",
      "Datasett funnet:\n",
      "  - temperaturdata.csv\n",
      "  - temperaturdata_feilverdier.csv\n"
     ]
    }
   ],
   "source": [
    "import os\n",
    "\n",
    "# Definer sti til temperaturdata-mappa\n",
    "data_dir = os.path.abspath(os.path.join(os.getcwd(), '..', 'data', 'temperaturdata'))\n",
    "\n",
    "# List alle CSV-filer i mappen\n",
    "datasets = [f for f in os.listdir(data_dir) if f.endswith('.csv')]\n",
    "\n",
    "print(f\"✅ Det er generert {len(datasets)} datasett fra API-et.\")\n",
    "print(\"Datasett funnet:\")\n",
    "for ds in datasets:\n",
    "    print(f\"  - {ds}\")\n"
   ]
  },
  {
   "cell_type": "markdown",
   "metadata": {},
   "source": [
    "Datasett nummer 2, \" temperaturdata_feilverdier\" er generert fra den samme API, med samme keywords. Her er det manuelt plassert feilmålinger og tomme målinger, valideringen av listene i oppgave 3 skal testes på begge datasett slik at man ser at den faktisk finner feil"
   ]
  }
 ],
 "metadata": {
  "kernelspec": {
   "display_name": "venv",
   "language": "python",
   "name": "python3"
  },
  "language_info": {
   "codemirror_mode": {
    "name": "ipython",
    "version": 3
   },
   "file_extension": ".py",
   "mimetype": "text/x-python",
   "name": "python",
   "nbconvert_exporter": "python",
   "pygments_lexer": "ipython3",
   "version": "3.11.9"
  }
 },
 "nbformat": 4,
 "nbformat_minor": 2
}
