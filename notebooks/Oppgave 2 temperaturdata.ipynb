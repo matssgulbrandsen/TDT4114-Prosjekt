{
 "cells": [
  {
   "cell_type": "markdown",
   "metadata": {},
   "source": [
    "### Oppgave 2) Datainnsamling\n",
    "\n",
    "Vi henter data ut gjennom en API fra OPEN-METEO.com, Koordinatene som er satt er for Trondheim, og dataen OPEN-METEO bruker for Norge kommer fra datasettet, \"MET NORDIC\", som er publisert av Norges Meterologiske Institutt. OPEN-METEO er open source, og tar seg ikke betalt for dataen, den er også veldig brukervennlig, og har en liste med alle \"keywords\" slik at man enkelt kan manøvrere gjennom de ulike dataene\n"
   ]
  },
  {
   "cell_type": "code",
   "execution_count": 1,
   "metadata": {},
   "outputs": [
    {
     "name": "stdout",
     "output_type": "stream",
     "text": [
      "Coordinates 63.444637298583984°N 10.36649227142334°E\n",
      "Elevation 14.0 m asl\n",
      "Timezone NoneNone\n",
      "Timezone difference to GMT+0 0 s\n",
      "                            date  temperature_2m\n",
      "0      1950-01-01 00:00:00+00:00       -6.688000\n",
      "1      1950-01-01 01:00:00+00:00       -8.002001\n",
      "2      1950-01-01 02:00:00+00:00       -7.402000\n",
      "3      1950-01-01 03:00:00+00:00       -6.952000\n",
      "4      1950-01-01 04:00:00+00:00       -6.402000\n",
      "...                          ...             ...\n",
      "659395 2025-03-22 19:00:00+00:00        8.118500\n",
      "659396 2025-03-22 20:00:00+00:00        7.668500\n",
      "659397 2025-03-22 21:00:00+00:00        7.268500\n",
      "659398 2025-03-22 22:00:00+00:00        6.868500\n",
      "659399 2025-03-22 23:00:00+00:00        6.568500\n",
      "\n",
      "[659400 rows x 2 columns]\n"
     ]
    }
   ],
   "source": [
    "import openmeteo_requests\n",
    "\n",
    "import requests_cache\n",
    "import pandas as pd\n",
    "from retry_requests import retry\n",
    "\n",
    "# Setup the Open-Meteo API client with cache and retry on error\n",
    "cache_session = requests_cache.CachedSession('.cache', expire_after = -1)\n",
    "retry_session = retry(cache_session, retries = 5, backoff_factor = 0.2)\n",
    "openmeteo = openmeteo_requests.Client(session = retry_session)\n",
    "\n",
    "# Make sure all required weather variables are listed here\n",
    "# The order of variables in hourly or daily is important to assign them correctly below\n",
    "url = \"https://archive-api.open-meteo.com/v1/archive\"\n",
    "params = {\n",
    "\t\"latitude\": 63.43,\n",
    "\t\"longitude\": 10.39,\n",
    "\t\"start_date\": \"1950-01-01\",\n",
    "\t\"end_date\": \"2025-03-22\",\n",
    "\t\"hourly\": \"temperature_2m\"\n",
    "}\n",
    "responses = openmeteo.weather_api(url, params=params)\n",
    "\n",
    "# Process first location. Add a for-loop for multiple locations or weather models\n",
    "response = responses[0]\n",
    "print(f\"Coordinates {response.Latitude()}°N {response.Longitude()}°E\")\n",
    "print(f\"Elevation {response.Elevation()} m asl\")\n",
    "print(f\"Timezone {response.Timezone()}{response.TimezoneAbbreviation()}\")\n",
    "print(f\"Timezone difference to GMT+0 {response.UtcOffsetSeconds()} s\")\n",
    "\n",
    "\t\t\t\t\t\t\t# Process hourly data. The order of variables needs to be the same as requested.\n",
    "hourly = response.Hourly()\n",
    "hourly_temperature_2m = hourly.Variables(0).ValuesAsNumpy()\n",
    "\n",
    "hourly_data = {\"date\": pd.date_range(\n",
    "\tstart = pd.to_datetime(hourly.Time(), unit = \"s\", utc = True),\n",
    "\tend = pd.to_datetime(hourly.TimeEnd(), unit = \"s\", utc = True),\n",
    "\tfreq = pd.Timedelta(seconds = hourly.Interval()),\n",
    "\tinclusive = \"left\"\n",
    ")}\n",
    "\n",
    "hourly_data[\"temperature_2m\"] = hourly_temperature_2m\n",
    "\n",
    "hourly_dataframe = pd.DataFrame(data = hourly_data)\n",
    "print(hourly_dataframe)\n"
   ]
  },
  {
   "cell_type": "markdown",
   "metadata": {},
   "source": [
    "Koden bruker Open-Meteo sin API , med caching (requests_cache) og feilretting (retry_requests). Data lagres som NumPy-array og Pandas DataFrame med tidsstempler. Latitude og Longitude er variabler vi setter inn, i denne koden har vi da valgt lengde og breddegradene til Trondheim. Videre har vi start og slutt dato, her har vi da valgt å hente data fra hver time fra 1950 til 2025, for å se om jeg får hentet ut all dataen, noe jeg fikk til. \"temperature_2m\" er keywordet som henter ut temperatur fra APIen som er den dataen vi vil se på. Koden finner også høyde over havet, \"elevation\" ut i fra lengde og bredde koordinatene vi velger"
   ]
  }
 ],
 "metadata": {
  "kernelspec": {
   "display_name": "venv",
   "language": "python",
   "name": "python3"
  },
  "language_info": {
   "codemirror_mode": {
    "name": "ipython",
    "version": 3
   },
   "file_extension": ".py",
   "mimetype": "text/x-python",
   "name": "python",
   "nbconvert_exporter": "python",
   "pygments_lexer": "ipython3",
   "version": "3.11.9"
  }
 },
 "nbformat": 4,
 "nbformat_minor": 2
}
