{
 "cells": [
  {
   "cell_type": "markdown",
   "metadata": {},
   "source": [
    "### Oppgave 3) Databehandling\n",
    "\n",
    "Målet vårt med temperaturdataen er å se etter en trend som kan si noe om utviklingen til klimaet, for at dette skal være mulig trenger vi at all data stemmer, og ikke minst at det ikke mangler noe data\n",
    "\n",
    "Vi vil først søke etter tomme verdier for å sikre at dataen vi har er komplett"
   ]
  },
  {
   "cell_type": "code",
   "execution_count": 3,
   "metadata": {},
   "outputs": [
    {
     "name": "stdout",
     "output_type": "stream",
     "text": [
      "Coordinates 63.444637298583984°N 10.36649227142334°E\n",
      "Elevation 14.0 m asl\n",
      "Timezone NoneNone\n",
      "Timezone difference to GMT+0 0 s\n",
      "Number of missing temperature values: 0\n"
     ]
    }
   ],
   "source": [
    "import openmeteo_requests\n",
    "import requests_cache\n",
    "import pandas as pd\n",
    "import numpy as np\n",
    "from retry_requests import retry\n",
    "\n",
    "# Setup the Open-Meteo API client with cache and retry on error\n",
    "cache_session = requests_cache.CachedSession('.cache', expire_after=-1)\n",
    "retry_session = retry(cache_session, retries=5, backoff_factor=0.2)\n",
    "openmeteo = openmeteo_requests.Client(session=retry_session)\n",
    "\n",
    "# API request parameters\n",
    "url = \"https://archive-api.open-meteo.com/v1/archive\"\n",
    "params = {\n",
    "    \"latitude\": 63.43,\n",
    "    \"longitude\": 10.39,\n",
    "    \"start_date\": \"1950-01-01\",\n",
    "    \"end_date\": \"2025-03-22\",\n",
    "    \"hourly\": \"temperature_2m\"\n",
    "}\n",
    "responses = openmeteo.weather_api(url, params=params)\n",
    "\n",
    "# Process first location\n",
    "response = responses[0]\n",
    "print(f\"Coordinates {response.Latitude()}°N {response.Longitude()}°E\")\n",
    "print(f\"Elevation {response.Elevation()} m asl\")\n",
    "print(f\"Timezone {response.Timezone()}{response.TimezoneAbbreviation()}\")\n",
    "print(f\"Timezone difference to GMT+0 {response.UtcOffsetSeconds()} s\")\n",
    "\n",
    "# Process hourly data\n",
    "hourly = response.Hourly()\n",
    "hourly_temperature_2m = hourly.Variables(0).ValuesAsNumpy()\n",
    "\n",
    "# Create a DataFrame\n",
    "hourly_data = {\n",
    "    \"date\": pd.date_range(\n",
    "        start=pd.to_datetime(hourly.Time(), unit=\"s\", utc=True),\n",
    "        end=pd.to_datetime(hourly.TimeEnd(), unit=\"s\", utc=True),\n",
    "        freq=pd.Timedelta(seconds=hourly.Interval()),\n",
    "        inclusive=\"left\"\n",
    "    ),\n",
    "    \"temperature_2m\": hourly_temperature_2m\n",
    "}\n",
    "\n",
    "\n",
    "# Check for missing values\n",
    "missing_values = hourly_dataframe[\"temperature_2m\"].isna().sum()\n",
    "print(f\"Number of missing temperature values: {missing_values}\")\n",
    "\n",
    "\n"
   ]
  },
  {
   "cell_type": "markdown",
   "metadata": {},
   "source": [
    "Koden over søkte etter tomme verdier, og fant 0 tomme verdier. Videre vil vi nå søke etter urealistiske målinger. Vi har undesøkt og vet at det ikke kan bli kaldere enn -40 grader i Trondheim og heller ikke varmere enn 40 grader her, dermed skal vi søke etter målinger som enten er kaldere eller varmere enn gitte temperaturer ettersom det er målinger som ikke kan være realistiske"
   ]
  },
  {
   "cell_type": "code",
   "execution_count": 8,
   "metadata": {},
   "outputs": [
    {
     "name": "stdout",
     "output_type": "stream",
     "text": [
      "Coordinates 63.444637298583984°N 10.36649227142334°E\n",
      "Elevation 14.0 m asl\n",
      "Timezone NoneNone\n",
      "Timezone difference to GMT+0 0 s\n",
      "\n",
      "✅ Ingen urealistiske temperaturer funnet.\n"
     ]
    }
   ],
   "source": [
    "import openmeteo_requests\n",
    "import requests_cache\n",
    "import pandas as pd\n",
    "from retry_requests import retry\n",
    "\n",
    "# Setup the Open-Meteo API client with cache and retry on error\n",
    "cache_session = requests_cache.CachedSession('.cache', expire_after=-1)\n",
    "retry_session = retry(cache_session, retries=5, backoff_factor=0.2)\n",
    "openmeteo = openmeteo_requests.Client(session=retry_session)\n",
    "\n",
    "# Make sure all required weather variables are listed here\n",
    "url = \"https://archive-api.open-meteo.com/v1/archive\"\n",
    "params = {\n",
    "    \"latitude\": 63.43,\n",
    "    \"longitude\": 10.39,\n",
    "    \"start_date\": \"1950-01-01\",\n",
    "    \"end_date\": \"2025-03-22\",\n",
    "    \"hourly\": \"temperature_2m\"\n",
    "}\n",
    "responses = openmeteo.weather_api(url, params=params)\n",
    "\n",
    "# Process first location\n",
    "response = responses[0]\n",
    "print(f\"Coordinates {response.Latitude()}°N {response.Longitude()}°E\")\n",
    "print(f\"Elevation {response.Elevation()} m asl\")\n",
    "print(f\"Timezone {response.Timezone()}{response.TimezoneAbbreviation()}\")\n",
    "print(f\"Timezone difference to GMT+0 {response.UtcOffsetSeconds()} s\")\n",
    "\n",
    "# Process hourly data\n",
    "hourly = response.Hourly()\n",
    "hourly_temperature_2m = hourly.Variables(0).ValuesAsNumpy()\n",
    "\n",
    "hourly_data = {\n",
    "    \"date\": pd.date_range(\n",
    "        start=pd.to_datetime(hourly.Time(), unit=\"s\", utc=True),\n",
    "        end=pd.to_datetime(hourly.TimeEnd(), unit=\"s\", utc=True),\n",
    "        freq=pd.Timedelta(seconds=hourly.Interval()),\n",
    "        inclusive=\"left\"\n",
    "    ),\n",
    "    \"temperature_2m\": hourly_temperature_2m\n",
    "}\n",
    "\n",
    "hourly_dataframe = pd.DataFrame(data=hourly_data)\n",
    "\n",
    "# Feilsøking: Finn temperaturer utenfor realistisk område\n",
    "min_temp = -40  # Laveste mulige realistiske temperatur på jorda\n",
    "max_temp = 40    # Høyeste mulige realistiske temperatur på jorda\n",
    "\n",
    "# Filtrer ut urealistiske temperaturverdier\n",
    "unrealistic_temperatures = hourly_dataframe[\n",
    "    (hourly_dataframe[\"temperature_2m\"] < min_temp) | \n",
    "    (hourly_dataframe[\"temperature_2m\"] > max_temp)\n",
    "]\n",
    "\n",
    "# Skriv ut urealistiske verdier hvis noen finnes\n",
    "if not unrealistic_temperatures.empty:\n",
    "    print(\"\\n⚠️ Urealistiske temperaturverdier funnet:\")\n",
    "    print(unrealistic_temperatures)\n",
    "else:\n",
    "    print(\"\\n✅ Ingen urealistiske temperaturer funnet.\")\n",
    "\n",
    "\n",
    "\n"
   ]
  },
  {
   "cell_type": "markdown",
   "metadata": {},
   "source": [
    "Koden fant heller ingen urealistiske data"
   ]
  }
 ],
 "metadata": {
  "kernelspec": {
   "display_name": "venv",
   "language": "python",
   "name": "python3"
  },
  "language_info": {
   "codemirror_mode": {
    "name": "ipython",
    "version": 3
   },
   "file_extension": ".py",
   "mimetype": "text/x-python",
   "name": "python",
   "nbconvert_exporter": "python",
   "pygments_lexer": "ipython3",
   "version": "3.11.9"
  }
 },
 "nbformat": 4,
 "nbformat_minor": 2
}
